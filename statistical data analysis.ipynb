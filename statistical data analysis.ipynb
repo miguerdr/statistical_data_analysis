{
 "cells": [
  {
   "cell_type": "markdown",
   "id": "8da3fcd2",
   "metadata": {},
   "source": [
    "# Análisis estadístico de datos"
   ]
  },
  {
   "cell_type": "markdown",
   "id": "b9e47c1f",
   "metadata": {},
   "source": [
    "## Inicialización"
   ]
  },
  {
   "cell_type": "markdown",
   "id": "a9d5e629",
   "metadata": {},
   "source": [
    "### Cargar datos y bibliotecas"
   ]
  },
  {
   "cell_type": "code",
   "execution_count": 1,
   "id": "018741ba",
   "metadata": {},
   "outputs": [],
   "source": [
    "#Importar bibliotecas \n",
    "from matplotlib import pyplot as plt \n",
    "from math import factorial\n",
    "from scipy import stats as st\n",
    "import math as mt \n",
    "import numpy as np\n",
    "import pandas as pd"
   ]
  },
  {
   "cell_type": "code",
   "execution_count": 2,
   "id": "c45592cd",
   "metadata": {},
   "outputs": [],
   "source": [
    "# Carga el archivo de datos en un DataFrame\n",
    "try:\n",
    "    data_calls = pd.read_csv('megaline_calls.csv')\n",
    "    data_internet = pd.read_csv('megaline_internet.csv')\n",
    "    data_messages = pd.read_csv('megaline_messages.csv')\n",
    "    data_plans = pd.read_csv('megaline_plans.csv')\n",
    "    data_users = pd.read_csv('megaline_users.csv')\n",
    "\n",
    "except: \n",
    "    data_calls = pd.read_csv('/datasets/megaline_calls.csv')\n",
    "    data_internet = pd.read_csv('/datasets/megaline_internet.csv')\n",
    "    data_messages = pd.read_csv('/datasets/megaline_messages.csv')\n",
    "    data_plans = pd.read_csv('/datasets/megaline_plans.csv')\n",
    "    data_users = pd.read_csv('/datasets/megaline_users.csv')"
   ]
  },
  {
   "cell_type": "markdown",
   "id": "6a6d679f",
   "metadata": {},
   "source": [
    "### Estudia la información general "
   ]
  },
  {
   "cell_type": "code",
   "execution_count": 3,
   "id": "4cbb1c27",
   "metadata": {},
   "outputs": [
    {
     "name": "stdout",
     "output_type": "stream",
     "text": [
      "<class 'pandas.core.frame.DataFrame'>\n",
      "RangeIndex: 137735 entries, 0 to 137734\n",
      "Data columns (total 4 columns):\n",
      " #   Column     Non-Null Count   Dtype  \n",
      "---  ------     --------------   -----  \n",
      " 0   id         137735 non-null  object \n",
      " 1   user_id    137735 non-null  int64  \n",
      " 2   call_date  137735 non-null  object \n",
      " 3   duration   137735 non-null  float64\n",
      "dtypes: float64(1), int64(1), object(2)\n",
      "memory usage: 4.2+ MB\n"
     ]
    },
    {
     "data": {
      "text/html": [
       "<div>\n",
       "<style scoped>\n",
       "    .dataframe tbody tr th:only-of-type {\n",
       "        vertical-align: middle;\n",
       "    }\n",
       "\n",
       "    .dataframe tbody tr th {\n",
       "        vertical-align: top;\n",
       "    }\n",
       "\n",
       "    .dataframe thead th {\n",
       "        text-align: right;\n",
       "    }\n",
       "</style>\n",
       "<table border=\"1\" class=\"dataframe\">\n",
       "  <thead>\n",
       "    <tr style=\"text-align: right;\">\n",
       "      <th></th>\n",
       "      <th>id</th>\n",
       "      <th>user_id</th>\n",
       "      <th>call_date</th>\n",
       "      <th>duration</th>\n",
       "    </tr>\n",
       "  </thead>\n",
       "  <tbody>\n",
       "    <tr>\n",
       "      <th>0</th>\n",
       "      <td>1000_93</td>\n",
       "      <td>1000</td>\n",
       "      <td>2018-12-27</td>\n",
       "      <td>8.52</td>\n",
       "    </tr>\n",
       "    <tr>\n",
       "      <th>1</th>\n",
       "      <td>1000_145</td>\n",
       "      <td>1000</td>\n",
       "      <td>2018-12-27</td>\n",
       "      <td>13.66</td>\n",
       "    </tr>\n",
       "    <tr>\n",
       "      <th>2</th>\n",
       "      <td>1000_247</td>\n",
       "      <td>1000</td>\n",
       "      <td>2018-12-27</td>\n",
       "      <td>14.48</td>\n",
       "    </tr>\n",
       "    <tr>\n",
       "      <th>3</th>\n",
       "      <td>1000_309</td>\n",
       "      <td>1000</td>\n",
       "      <td>2018-12-28</td>\n",
       "      <td>5.76</td>\n",
       "    </tr>\n",
       "    <tr>\n",
       "      <th>4</th>\n",
       "      <td>1000_380</td>\n",
       "      <td>1000</td>\n",
       "      <td>2018-12-30</td>\n",
       "      <td>4.22</td>\n",
       "    </tr>\n",
       "  </tbody>\n",
       "</table>\n",
       "</div>"
      ],
      "text/plain": [
       "         id  user_id   call_date  duration\n",
       "0   1000_93     1000  2018-12-27      8.52\n",
       "1  1000_145     1000  2018-12-27     13.66\n",
       "2  1000_247     1000  2018-12-27     14.48\n",
       "3  1000_309     1000  2018-12-28      5.76\n",
       "4  1000_380     1000  2018-12-30      4.22"
      ]
     },
     "execution_count": 3,
     "metadata": {},
     "output_type": "execute_result"
    }
   ],
   "source": [
    "data_calls.info()\n",
    "data_calls.head()"
   ]
  },
  {
   "cell_type": "code",
   "execution_count": 4,
   "id": "fd77d56a",
   "metadata": {},
   "outputs": [
    {
     "name": "stdout",
     "output_type": "stream",
     "text": [
      "<class 'pandas.core.frame.DataFrame'>\n",
      "RangeIndex: 104825 entries, 0 to 104824\n",
      "Data columns (total 4 columns):\n",
      " #   Column        Non-Null Count   Dtype  \n",
      "---  ------        --------------   -----  \n",
      " 0   id            104825 non-null  object \n",
      " 1   user_id       104825 non-null  int64  \n",
      " 2   session_date  104825 non-null  object \n",
      " 3   mb_used       104825 non-null  float64\n",
      "dtypes: float64(1), int64(1), object(2)\n",
      "memory usage: 3.2+ MB\n"
     ]
    },
    {
     "data": {
      "text/html": [
       "<div>\n",
       "<style scoped>\n",
       "    .dataframe tbody tr th:only-of-type {\n",
       "        vertical-align: middle;\n",
       "    }\n",
       "\n",
       "    .dataframe tbody tr th {\n",
       "        vertical-align: top;\n",
       "    }\n",
       "\n",
       "    .dataframe thead th {\n",
       "        text-align: right;\n",
       "    }\n",
       "</style>\n",
       "<table border=\"1\" class=\"dataframe\">\n",
       "  <thead>\n",
       "    <tr style=\"text-align: right;\">\n",
       "      <th></th>\n",
       "      <th>id</th>\n",
       "      <th>user_id</th>\n",
       "      <th>session_date</th>\n",
       "      <th>mb_used</th>\n",
       "    </tr>\n",
       "  </thead>\n",
       "  <tbody>\n",
       "    <tr>\n",
       "      <th>0</th>\n",
       "      <td>1000_13</td>\n",
       "      <td>1000</td>\n",
       "      <td>2018-12-29</td>\n",
       "      <td>89.86</td>\n",
       "    </tr>\n",
       "    <tr>\n",
       "      <th>1</th>\n",
       "      <td>1000_204</td>\n",
       "      <td>1000</td>\n",
       "      <td>2018-12-31</td>\n",
       "      <td>0.00</td>\n",
       "    </tr>\n",
       "    <tr>\n",
       "      <th>2</th>\n",
       "      <td>1000_379</td>\n",
       "      <td>1000</td>\n",
       "      <td>2018-12-28</td>\n",
       "      <td>660.40</td>\n",
       "    </tr>\n",
       "    <tr>\n",
       "      <th>3</th>\n",
       "      <td>1000_413</td>\n",
       "      <td>1000</td>\n",
       "      <td>2018-12-26</td>\n",
       "      <td>270.99</td>\n",
       "    </tr>\n",
       "    <tr>\n",
       "      <th>4</th>\n",
       "      <td>1000_442</td>\n",
       "      <td>1000</td>\n",
       "      <td>2018-12-27</td>\n",
       "      <td>880.22</td>\n",
       "    </tr>\n",
       "  </tbody>\n",
       "</table>\n",
       "</div>"
      ],
      "text/plain": [
       "         id  user_id session_date  mb_used\n",
       "0   1000_13     1000   2018-12-29    89.86\n",
       "1  1000_204     1000   2018-12-31     0.00\n",
       "2  1000_379     1000   2018-12-28   660.40\n",
       "3  1000_413     1000   2018-12-26   270.99\n",
       "4  1000_442     1000   2018-12-27   880.22"
      ]
     },
     "execution_count": 4,
     "metadata": {},
     "output_type": "execute_result"
    }
   ],
   "source": [
    "data_internet.info()\n",
    "data_internet.head()"
   ]
  },
  {
   "cell_type": "code",
   "execution_count": 5,
   "id": "cff52f5f",
   "metadata": {},
   "outputs": [
    {
     "name": "stdout",
     "output_type": "stream",
     "text": [
      "<class 'pandas.core.frame.DataFrame'>\n",
      "RangeIndex: 76051 entries, 0 to 76050\n",
      "Data columns (total 3 columns):\n",
      " #   Column        Non-Null Count  Dtype \n",
      "---  ------        --------------  ----- \n",
      " 0   id            76051 non-null  object\n",
      " 1   user_id       76051 non-null  int64 \n",
      " 2   message_date  76051 non-null  object\n",
      "dtypes: int64(1), object(2)\n",
      "memory usage: 1.7+ MB\n"
     ]
    },
    {
     "data": {
      "text/html": [
       "<div>\n",
       "<style scoped>\n",
       "    .dataframe tbody tr th:only-of-type {\n",
       "        vertical-align: middle;\n",
       "    }\n",
       "\n",
       "    .dataframe tbody tr th {\n",
       "        vertical-align: top;\n",
       "    }\n",
       "\n",
       "    .dataframe thead th {\n",
       "        text-align: right;\n",
       "    }\n",
       "</style>\n",
       "<table border=\"1\" class=\"dataframe\">\n",
       "  <thead>\n",
       "    <tr style=\"text-align: right;\">\n",
       "      <th></th>\n",
       "      <th>id</th>\n",
       "      <th>user_id</th>\n",
       "      <th>message_date</th>\n",
       "    </tr>\n",
       "  </thead>\n",
       "  <tbody>\n",
       "    <tr>\n",
       "      <th>0</th>\n",
       "      <td>1000_125</td>\n",
       "      <td>1000</td>\n",
       "      <td>2018-12-27</td>\n",
       "    </tr>\n",
       "    <tr>\n",
       "      <th>1</th>\n",
       "      <td>1000_160</td>\n",
       "      <td>1000</td>\n",
       "      <td>2018-12-31</td>\n",
       "    </tr>\n",
       "    <tr>\n",
       "      <th>2</th>\n",
       "      <td>1000_223</td>\n",
       "      <td>1000</td>\n",
       "      <td>2018-12-31</td>\n",
       "    </tr>\n",
       "    <tr>\n",
       "      <th>3</th>\n",
       "      <td>1000_251</td>\n",
       "      <td>1000</td>\n",
       "      <td>2018-12-27</td>\n",
       "    </tr>\n",
       "    <tr>\n",
       "      <th>4</th>\n",
       "      <td>1000_255</td>\n",
       "      <td>1000</td>\n",
       "      <td>2018-12-26</td>\n",
       "    </tr>\n",
       "  </tbody>\n",
       "</table>\n",
       "</div>"
      ],
      "text/plain": [
       "         id  user_id message_date\n",
       "0  1000_125     1000   2018-12-27\n",
       "1  1000_160     1000   2018-12-31\n",
       "2  1000_223     1000   2018-12-31\n",
       "3  1000_251     1000   2018-12-27\n",
       "4  1000_255     1000   2018-12-26"
      ]
     },
     "execution_count": 5,
     "metadata": {},
     "output_type": "execute_result"
    }
   ],
   "source": [
    "data_messages.info()\n",
    "data_messages.head()"
   ]
  },
  {
   "cell_type": "code",
   "execution_count": 6,
   "id": "f7d486f5",
   "metadata": {},
   "outputs": [
    {
     "name": "stdout",
     "output_type": "stream",
     "text": [
      "<class 'pandas.core.frame.DataFrame'>\n",
      "RangeIndex: 2 entries, 0 to 1\n",
      "Data columns (total 8 columns):\n",
      " #   Column                 Non-Null Count  Dtype  \n",
      "---  ------                 --------------  -----  \n",
      " 0   messages_included      2 non-null      int64  \n",
      " 1   mb_per_month_included  2 non-null      int64  \n",
      " 2   minutes_included       2 non-null      int64  \n",
      " 3   usd_monthly_pay        2 non-null      int64  \n",
      " 4   usd_per_gb             2 non-null      int64  \n",
      " 5   usd_per_message        2 non-null      float64\n",
      " 6   usd_per_minute         2 non-null      float64\n",
      " 7   plan_name              2 non-null      object \n",
      "dtypes: float64(2), int64(5), object(1)\n",
      "memory usage: 256.0+ bytes\n"
     ]
    },
    {
     "data": {
      "text/html": [
       "<div>\n",
       "<style scoped>\n",
       "    .dataframe tbody tr th:only-of-type {\n",
       "        vertical-align: middle;\n",
       "    }\n",
       "\n",
       "    .dataframe tbody tr th {\n",
       "        vertical-align: top;\n",
       "    }\n",
       "\n",
       "    .dataframe thead th {\n",
       "        text-align: right;\n",
       "    }\n",
       "</style>\n",
       "<table border=\"1\" class=\"dataframe\">\n",
       "  <thead>\n",
       "    <tr style=\"text-align: right;\">\n",
       "      <th></th>\n",
       "      <th>messages_included</th>\n",
       "      <th>mb_per_month_included</th>\n",
       "      <th>minutes_included</th>\n",
       "      <th>usd_monthly_pay</th>\n",
       "      <th>usd_per_gb</th>\n",
       "      <th>usd_per_message</th>\n",
       "      <th>usd_per_minute</th>\n",
       "      <th>plan_name</th>\n",
       "    </tr>\n",
       "  </thead>\n",
       "  <tbody>\n",
       "    <tr>\n",
       "      <th>0</th>\n",
       "      <td>50</td>\n",
       "      <td>15360</td>\n",
       "      <td>500</td>\n",
       "      <td>20</td>\n",
       "      <td>10</td>\n",
       "      <td>0.03</td>\n",
       "      <td>0.03</td>\n",
       "      <td>surf</td>\n",
       "    </tr>\n",
       "    <tr>\n",
       "      <th>1</th>\n",
       "      <td>1000</td>\n",
       "      <td>30720</td>\n",
       "      <td>3000</td>\n",
       "      <td>70</td>\n",
       "      <td>7</td>\n",
       "      <td>0.01</td>\n",
       "      <td>0.01</td>\n",
       "      <td>ultimate</td>\n",
       "    </tr>\n",
       "  </tbody>\n",
       "</table>\n",
       "</div>"
      ],
      "text/plain": [
       "   messages_included  mb_per_month_included  minutes_included  \\\n",
       "0                 50                  15360               500   \n",
       "1               1000                  30720              3000   \n",
       "\n",
       "   usd_monthly_pay  usd_per_gb  usd_per_message  usd_per_minute plan_name  \n",
       "0               20          10             0.03            0.03      surf  \n",
       "1               70           7             0.01            0.01  ultimate  "
      ]
     },
     "execution_count": 6,
     "metadata": {},
     "output_type": "execute_result"
    }
   ],
   "source": [
    "data_plans.info()\n",
    "data_plans"
   ]
  },
  {
   "cell_type": "code",
   "execution_count": 7,
   "id": "3bd75fc2",
   "metadata": {},
   "outputs": [
    {
     "name": "stdout",
     "output_type": "stream",
     "text": [
      "<class 'pandas.core.frame.DataFrame'>\n",
      "RangeIndex: 500 entries, 0 to 499\n",
      "Data columns (total 8 columns):\n",
      " #   Column      Non-Null Count  Dtype \n",
      "---  ------      --------------  ----- \n",
      " 0   user_id     500 non-null    int64 \n",
      " 1   first_name  500 non-null    object\n",
      " 2   last_name   500 non-null    object\n",
      " 3   age         500 non-null    int64 \n",
      " 4   city        500 non-null    object\n",
      " 5   reg_date    500 non-null    object\n",
      " 6   plan        500 non-null    object\n",
      " 7   churn_date  34 non-null     object\n",
      "dtypes: int64(2), object(6)\n",
      "memory usage: 31.4+ KB\n"
     ]
    },
    {
     "data": {
      "text/html": [
       "<div>\n",
       "<style scoped>\n",
       "    .dataframe tbody tr th:only-of-type {\n",
       "        vertical-align: middle;\n",
       "    }\n",
       "\n",
       "    .dataframe tbody tr th {\n",
       "        vertical-align: top;\n",
       "    }\n",
       "\n",
       "    .dataframe thead th {\n",
       "        text-align: right;\n",
       "    }\n",
       "</style>\n",
       "<table border=\"1\" class=\"dataframe\">\n",
       "  <thead>\n",
       "    <tr style=\"text-align: right;\">\n",
       "      <th></th>\n",
       "      <th>user_id</th>\n",
       "      <th>first_name</th>\n",
       "      <th>last_name</th>\n",
       "      <th>age</th>\n",
       "      <th>city</th>\n",
       "      <th>reg_date</th>\n",
       "      <th>plan</th>\n",
       "      <th>churn_date</th>\n",
       "    </tr>\n",
       "  </thead>\n",
       "  <tbody>\n",
       "    <tr>\n",
       "      <th>0</th>\n",
       "      <td>1000</td>\n",
       "      <td>Anamaria</td>\n",
       "      <td>Bauer</td>\n",
       "      <td>45</td>\n",
       "      <td>Atlanta-Sandy Springs-Roswell, GA MSA</td>\n",
       "      <td>2018-12-24</td>\n",
       "      <td>ultimate</td>\n",
       "      <td>NaN</td>\n",
       "    </tr>\n",
       "    <tr>\n",
       "      <th>1</th>\n",
       "      <td>1001</td>\n",
       "      <td>Mickey</td>\n",
       "      <td>Wilkerson</td>\n",
       "      <td>28</td>\n",
       "      <td>Seattle-Tacoma-Bellevue, WA MSA</td>\n",
       "      <td>2018-08-13</td>\n",
       "      <td>surf</td>\n",
       "      <td>NaN</td>\n",
       "    </tr>\n",
       "    <tr>\n",
       "      <th>2</th>\n",
       "      <td>1002</td>\n",
       "      <td>Carlee</td>\n",
       "      <td>Hoffman</td>\n",
       "      <td>36</td>\n",
       "      <td>Las Vegas-Henderson-Paradise, NV MSA</td>\n",
       "      <td>2018-10-21</td>\n",
       "      <td>surf</td>\n",
       "      <td>NaN</td>\n",
       "    </tr>\n",
       "    <tr>\n",
       "      <th>3</th>\n",
       "      <td>1003</td>\n",
       "      <td>Reynaldo</td>\n",
       "      <td>Jenkins</td>\n",
       "      <td>52</td>\n",
       "      <td>Tulsa, OK MSA</td>\n",
       "      <td>2018-01-28</td>\n",
       "      <td>surf</td>\n",
       "      <td>NaN</td>\n",
       "    </tr>\n",
       "    <tr>\n",
       "      <th>4</th>\n",
       "      <td>1004</td>\n",
       "      <td>Leonila</td>\n",
       "      <td>Thompson</td>\n",
       "      <td>40</td>\n",
       "      <td>Seattle-Tacoma-Bellevue, WA MSA</td>\n",
       "      <td>2018-05-23</td>\n",
       "      <td>surf</td>\n",
       "      <td>NaN</td>\n",
       "    </tr>\n",
       "  </tbody>\n",
       "</table>\n",
       "</div>"
      ],
      "text/plain": [
       "   user_id first_name  last_name  age                                   city  \\\n",
       "0     1000   Anamaria      Bauer   45  Atlanta-Sandy Springs-Roswell, GA MSA   \n",
       "1     1001     Mickey  Wilkerson   28        Seattle-Tacoma-Bellevue, WA MSA   \n",
       "2     1002     Carlee    Hoffman   36   Las Vegas-Henderson-Paradise, NV MSA   \n",
       "3     1003   Reynaldo    Jenkins   52                          Tulsa, OK MSA   \n",
       "4     1004    Leonila   Thompson   40        Seattle-Tacoma-Bellevue, WA MSA   \n",
       "\n",
       "     reg_date      plan churn_date  \n",
       "0  2018-12-24  ultimate        NaN  \n",
       "1  2018-08-13      surf        NaN  \n",
       "2  2018-10-21      surf        NaN  \n",
       "3  2018-01-28      surf        NaN  \n",
       "4  2018-05-23      surf        NaN  "
      ]
     },
     "execution_count": 7,
     "metadata": {},
     "output_type": "execute_result"
    }
   ],
   "source": [
    "data_users.info()\n",
    "data_users.head()"
   ]
  },
  {
   "cell_type": "markdown",
   "id": "69323685",
   "metadata": {},
   "source": [
    "## Prepara los datos"
   ]
  },
  {
   "cell_type": "markdown",
   "id": "d960e50e",
   "metadata": {},
   "source": [
    "### Convierte los datos en los tipos necesarios, encuentra y elimina los errores"
   ]
  },
  {
   "cell_type": "code",
   "execution_count": 8,
   "id": "8837b0e0",
   "metadata": {},
   "outputs": [
    {
     "data": {
      "text/plain": [
       "19.482339274694162"
      ]
     },
     "execution_count": 8,
     "metadata": {},
     "output_type": "execute_result"
    }
   ],
   "source": [
    "val_cero = len(data_calls[data_calls['duration'] == 0])\n",
    "val_total = len(data_calls)\n",
    "porcent = (val_cero / val_total) * 100\n",
    "porcent"
   ]
  },
  {
   "cell_type": "markdown",
   "id": "c5cd0cc7",
   "metadata": {},
   "source": [
    "- Los datos en la columna call_date, no estan en el formato correcto\n",
    "- No se tomarán en cuenta los valores en 0, ya que no representa un ingreso de la empresa, y un objetivo del estudio es saber cómo afectan los ingresos de la empresa\n",
    "- Redondearemos los valores de duration\n",
    "- No hay valores ausentes"
   ]
  },
  {
   "cell_type": "code",
   "execution_count": 9,
   "id": "06d56f63",
   "metadata": {
    "scrolled": true
   },
   "outputs": [
    {
     "name": "stdout",
     "output_type": "stream",
     "text": [
      "<class 'pandas.core.frame.DataFrame'>\n",
      "RangeIndex: 137735 entries, 0 to 137734\n",
      "Data columns (total 4 columns):\n",
      " #   Column     Non-Null Count   Dtype         \n",
      "---  ------     --------------   -----         \n",
      " 0   id         137735 non-null  object        \n",
      " 1   user_id    137735 non-null  int64         \n",
      " 2   call_date  137735 non-null  datetime64[ns]\n",
      " 3   duration   137735 non-null  float64       \n",
      "dtypes: datetime64[ns](1), float64(1), int64(1), object(1)\n",
      "memory usage: 4.2+ MB\n"
     ]
    },
    {
     "data": {
      "text/html": [
       "<div>\n",
       "<style scoped>\n",
       "    .dataframe tbody tr th:only-of-type {\n",
       "        vertical-align: middle;\n",
       "    }\n",
       "\n",
       "    .dataframe tbody tr th {\n",
       "        vertical-align: top;\n",
       "    }\n",
       "\n",
       "    .dataframe thead th {\n",
       "        text-align: right;\n",
       "    }\n",
       "</style>\n",
       "<table border=\"1\" class=\"dataframe\">\n",
       "  <thead>\n",
       "    <tr style=\"text-align: right;\">\n",
       "      <th></th>\n",
       "      <th>id</th>\n",
       "      <th>user_id</th>\n",
       "      <th>call_date</th>\n",
       "      <th>duration</th>\n",
       "    </tr>\n",
       "  </thead>\n",
       "  <tbody>\n",
       "    <tr>\n",
       "      <th>0</th>\n",
       "      <td>1000_93</td>\n",
       "      <td>1000</td>\n",
       "      <td>2018-12-27</td>\n",
       "      <td>9.0</td>\n",
       "    </tr>\n",
       "    <tr>\n",
       "      <th>1</th>\n",
       "      <td>1000_145</td>\n",
       "      <td>1000</td>\n",
       "      <td>2018-12-27</td>\n",
       "      <td>14.0</td>\n",
       "    </tr>\n",
       "    <tr>\n",
       "      <th>2</th>\n",
       "      <td>1000_247</td>\n",
       "      <td>1000</td>\n",
       "      <td>2018-12-27</td>\n",
       "      <td>15.0</td>\n",
       "    </tr>\n",
       "    <tr>\n",
       "      <th>3</th>\n",
       "      <td>1000_309</td>\n",
       "      <td>1000</td>\n",
       "      <td>2018-12-28</td>\n",
       "      <td>6.0</td>\n",
       "    </tr>\n",
       "    <tr>\n",
       "      <th>4</th>\n",
       "      <td>1000_380</td>\n",
       "      <td>1000</td>\n",
       "      <td>2018-12-30</td>\n",
       "      <td>5.0</td>\n",
       "    </tr>\n",
       "    <tr>\n",
       "      <th>...</th>\n",
       "      <td>...</td>\n",
       "      <td>...</td>\n",
       "      <td>...</td>\n",
       "      <td>...</td>\n",
       "    </tr>\n",
       "    <tr>\n",
       "      <th>137730</th>\n",
       "      <td>1499_199</td>\n",
       "      <td>1499</td>\n",
       "      <td>2018-11-21</td>\n",
       "      <td>9.0</td>\n",
       "    </tr>\n",
       "    <tr>\n",
       "      <th>137731</th>\n",
       "      <td>1499_200</td>\n",
       "      <td>1499</td>\n",
       "      <td>2018-10-20</td>\n",
       "      <td>11.0</td>\n",
       "    </tr>\n",
       "    <tr>\n",
       "      <th>137732</th>\n",
       "      <td>1499_201</td>\n",
       "      <td>1499</td>\n",
       "      <td>2018-09-21</td>\n",
       "      <td>9.0</td>\n",
       "    </tr>\n",
       "    <tr>\n",
       "      <th>137733</th>\n",
       "      <td>1499_202</td>\n",
       "      <td>1499</td>\n",
       "      <td>2018-10-10</td>\n",
       "      <td>1.0</td>\n",
       "    </tr>\n",
       "    <tr>\n",
       "      <th>137734</th>\n",
       "      <td>1499_203</td>\n",
       "      <td>1499</td>\n",
       "      <td>2018-12-29</td>\n",
       "      <td>14.0</td>\n",
       "    </tr>\n",
       "  </tbody>\n",
       "</table>\n",
       "<p>137735 rows × 4 columns</p>\n",
       "</div>"
      ],
      "text/plain": [
       "              id  user_id  call_date  duration\n",
       "0        1000_93     1000 2018-12-27       9.0\n",
       "1       1000_145     1000 2018-12-27      14.0\n",
       "2       1000_247     1000 2018-12-27      15.0\n",
       "3       1000_309     1000 2018-12-28       6.0\n",
       "4       1000_380     1000 2018-12-30       5.0\n",
       "...          ...      ...        ...       ...\n",
       "137730  1499_199     1499 2018-11-21       9.0\n",
       "137731  1499_200     1499 2018-10-20      11.0\n",
       "137732  1499_201     1499 2018-09-21       9.0\n",
       "137733  1499_202     1499 2018-10-10       1.0\n",
       "137734  1499_203     1499 2018-12-29      14.0\n",
       "\n",
       "[137735 rows x 4 columns]"
      ]
     },
     "execution_count": 9,
     "metadata": {},
     "output_type": "execute_result"
    }
   ],
   "source": [
    "#Cambiar tipo de datos en data_calls\n",
    "data_calls['call_date']= pd.to_datetime(data_calls['call_date'], format='%Y.%m.%d')\n",
    "#redondear valores \n",
    "data_calls['duration'] = data_calls['duration'].apply(np.ceil)\n",
    "data_calls.info()\n",
    "data_calls"
   ]
  },
  {
   "cell_type": "code",
   "execution_count": 10,
   "id": "3852a053",
   "metadata": {
    "scrolled": false
   },
   "outputs": [
    {
     "name": "stdout",
     "output_type": "stream",
     "text": [
      "<class 'pandas.core.frame.DataFrame'>\n",
      "RangeIndex: 104825 entries, 0 to 104824\n",
      "Data columns (total 4 columns):\n",
      " #   Column        Non-Null Count   Dtype  \n",
      "---  ------        --------------   -----  \n",
      " 0   id            104825 non-null  object \n",
      " 1   user_id       104825 non-null  int64  \n",
      " 2   session_date  104825 non-null  object \n",
      " 3   mb_used       104825 non-null  float64\n",
      "dtypes: float64(1), int64(1), object(2)\n",
      "memory usage: 3.2+ MB\n"
     ]
    },
    {
     "data": {
      "text/html": [
       "<div>\n",
       "<style scoped>\n",
       "    .dataframe tbody tr th:only-of-type {\n",
       "        vertical-align: middle;\n",
       "    }\n",
       "\n",
       "    .dataframe tbody tr th {\n",
       "        vertical-align: top;\n",
       "    }\n",
       "\n",
       "    .dataframe thead th {\n",
       "        text-align: right;\n",
       "    }\n",
       "</style>\n",
       "<table border=\"1\" class=\"dataframe\">\n",
       "  <thead>\n",
       "    <tr style=\"text-align: right;\">\n",
       "      <th></th>\n",
       "      <th>id</th>\n",
       "      <th>user_id</th>\n",
       "      <th>session_date</th>\n",
       "      <th>mb_used</th>\n",
       "    </tr>\n",
       "  </thead>\n",
       "  <tbody>\n",
       "    <tr>\n",
       "      <th>0</th>\n",
       "      <td>1000_13</td>\n",
       "      <td>1000</td>\n",
       "      <td>2018-12-29</td>\n",
       "      <td>89.86</td>\n",
       "    </tr>\n",
       "    <tr>\n",
       "      <th>1</th>\n",
       "      <td>1000_204</td>\n",
       "      <td>1000</td>\n",
       "      <td>2018-12-31</td>\n",
       "      <td>0.00</td>\n",
       "    </tr>\n",
       "    <tr>\n",
       "      <th>2</th>\n",
       "      <td>1000_379</td>\n",
       "      <td>1000</td>\n",
       "      <td>2018-12-28</td>\n",
       "      <td>660.40</td>\n",
       "    </tr>\n",
       "    <tr>\n",
       "      <th>3</th>\n",
       "      <td>1000_413</td>\n",
       "      <td>1000</td>\n",
       "      <td>2018-12-26</td>\n",
       "      <td>270.99</td>\n",
       "    </tr>\n",
       "    <tr>\n",
       "      <th>4</th>\n",
       "      <td>1000_442</td>\n",
       "      <td>1000</td>\n",
       "      <td>2018-12-27</td>\n",
       "      <td>880.22</td>\n",
       "    </tr>\n",
       "  </tbody>\n",
       "</table>\n",
       "</div>"
      ],
      "text/plain": [
       "         id  user_id session_date  mb_used\n",
       "0   1000_13     1000   2018-12-29    89.86\n",
       "1  1000_204     1000   2018-12-31     0.00\n",
       "2  1000_379     1000   2018-12-28   660.40\n",
       "3  1000_413     1000   2018-12-26   270.99\n",
       "4  1000_442     1000   2018-12-27   880.22"
      ]
     },
     "execution_count": 10,
     "metadata": {},
     "output_type": "execute_result"
    }
   ],
   "source": [
    "data_internet.info()\n",
    "data_internet.head()"
   ]
  },
  {
   "cell_type": "markdown",
   "id": "435b0497",
   "metadata": {},
   "source": [
    "- La columna session_date no está en el formato correcto, y esta la convertimos en data"
   ]
  },
  {
   "cell_type": "code",
   "execution_count": 11,
   "id": "7705f354",
   "metadata": {
    "scrolled": false
   },
   "outputs": [
    {
     "data": {
      "text/html": [
       "<div>\n",
       "<style scoped>\n",
       "    .dataframe tbody tr th:only-of-type {\n",
       "        vertical-align: middle;\n",
       "    }\n",
       "\n",
       "    .dataframe tbody tr th {\n",
       "        vertical-align: top;\n",
       "    }\n",
       "\n",
       "    .dataframe thead th {\n",
       "        text-align: right;\n",
       "    }\n",
       "</style>\n",
       "<table border=\"1\" class=\"dataframe\">\n",
       "  <thead>\n",
       "    <tr style=\"text-align: right;\">\n",
       "      <th></th>\n",
       "      <th>id</th>\n",
       "      <th>user_id</th>\n",
       "      <th>session_date</th>\n",
       "      <th>mb_used</th>\n",
       "    </tr>\n",
       "  </thead>\n",
       "  <tbody>\n",
       "    <tr>\n",
       "      <th>0</th>\n",
       "      <td>1000_13</td>\n",
       "      <td>1000</td>\n",
       "      <td>2018-12-29</td>\n",
       "      <td>89.86</td>\n",
       "    </tr>\n",
       "    <tr>\n",
       "      <th>1</th>\n",
       "      <td>1000_204</td>\n",
       "      <td>1000</td>\n",
       "      <td>2018-12-31</td>\n",
       "      <td>0.00</td>\n",
       "    </tr>\n",
       "    <tr>\n",
       "      <th>2</th>\n",
       "      <td>1000_379</td>\n",
       "      <td>1000</td>\n",
       "      <td>2018-12-28</td>\n",
       "      <td>660.40</td>\n",
       "    </tr>\n",
       "    <tr>\n",
       "      <th>3</th>\n",
       "      <td>1000_413</td>\n",
       "      <td>1000</td>\n",
       "      <td>2018-12-26</td>\n",
       "      <td>270.99</td>\n",
       "    </tr>\n",
       "    <tr>\n",
       "      <th>4</th>\n",
       "      <td>1000_442</td>\n",
       "      <td>1000</td>\n",
       "      <td>2018-12-27</td>\n",
       "      <td>880.22</td>\n",
       "    </tr>\n",
       "    <tr>\n",
       "      <th>...</th>\n",
       "      <td>...</td>\n",
       "      <td>...</td>\n",
       "      <td>...</td>\n",
       "      <td>...</td>\n",
       "    </tr>\n",
       "    <tr>\n",
       "      <th>104820</th>\n",
       "      <td>1499_215</td>\n",
       "      <td>1499</td>\n",
       "      <td>2018-10-20</td>\n",
       "      <td>218.06</td>\n",
       "    </tr>\n",
       "    <tr>\n",
       "      <th>104821</th>\n",
       "      <td>1499_216</td>\n",
       "      <td>1499</td>\n",
       "      <td>2018-12-30</td>\n",
       "      <td>304.72</td>\n",
       "    </tr>\n",
       "    <tr>\n",
       "      <th>104822</th>\n",
       "      <td>1499_217</td>\n",
       "      <td>1499</td>\n",
       "      <td>2018-09-22</td>\n",
       "      <td>292.75</td>\n",
       "    </tr>\n",
       "    <tr>\n",
       "      <th>104823</th>\n",
       "      <td>1499_218</td>\n",
       "      <td>1499</td>\n",
       "      <td>2018-12-07</td>\n",
       "      <td>0.00</td>\n",
       "    </tr>\n",
       "    <tr>\n",
       "      <th>104824</th>\n",
       "      <td>1499_219</td>\n",
       "      <td>1499</td>\n",
       "      <td>2018-12-24</td>\n",
       "      <td>758.31</td>\n",
       "    </tr>\n",
       "  </tbody>\n",
       "</table>\n",
       "<p>104825 rows × 4 columns</p>\n",
       "</div>"
      ],
      "text/plain": [
       "              id  user_id session_date  mb_used\n",
       "0        1000_13     1000   2018-12-29    89.86\n",
       "1       1000_204     1000   2018-12-31     0.00\n",
       "2       1000_379     1000   2018-12-28   660.40\n",
       "3       1000_413     1000   2018-12-26   270.99\n",
       "4       1000_442     1000   2018-12-27   880.22\n",
       "...          ...      ...          ...      ...\n",
       "104820  1499_215     1499   2018-10-20   218.06\n",
       "104821  1499_216     1499   2018-12-30   304.72\n",
       "104822  1499_217     1499   2018-09-22   292.75\n",
       "104823  1499_218     1499   2018-12-07     0.00\n",
       "104824  1499_219     1499   2018-12-24   758.31\n",
       "\n",
       "[104825 rows x 4 columns]"
      ]
     },
     "execution_count": 11,
     "metadata": {},
     "output_type": "execute_result"
    }
   ],
   "source": [
    "#Cambiar tipo de datos en data_internet\n",
    "data_internet['session_date']= pd.to_datetime(data_internet['session_date'], format='%Y.%m.%d') \n",
    "data_internet"
   ]
  },
  {
   "cell_type": "code",
   "execution_count": 12,
   "id": "57efcef8",
   "metadata": {
    "scrolled": false
   },
   "outputs": [
    {
     "name": "stdout",
     "output_type": "stream",
     "text": [
      "<class 'pandas.core.frame.DataFrame'>\n",
      "RangeIndex: 76051 entries, 0 to 76050\n",
      "Data columns (total 3 columns):\n",
      " #   Column        Non-Null Count  Dtype \n",
      "---  ------        --------------  ----- \n",
      " 0   id            76051 non-null  object\n",
      " 1   user_id       76051 non-null  int64 \n",
      " 2   message_date  76051 non-null  object\n",
      "dtypes: int64(1), object(2)\n",
      "memory usage: 1.7+ MB\n"
     ]
    },
    {
     "data": {
      "text/html": [
       "<div>\n",
       "<style scoped>\n",
       "    .dataframe tbody tr th:only-of-type {\n",
       "        vertical-align: middle;\n",
       "    }\n",
       "\n",
       "    .dataframe tbody tr th {\n",
       "        vertical-align: top;\n",
       "    }\n",
       "\n",
       "    .dataframe thead th {\n",
       "        text-align: right;\n",
       "    }\n",
       "</style>\n",
       "<table border=\"1\" class=\"dataframe\">\n",
       "  <thead>\n",
       "    <tr style=\"text-align: right;\">\n",
       "      <th></th>\n",
       "      <th>id</th>\n",
       "      <th>user_id</th>\n",
       "      <th>message_date</th>\n",
       "    </tr>\n",
       "  </thead>\n",
       "  <tbody>\n",
       "    <tr>\n",
       "      <th>0</th>\n",
       "      <td>1000_125</td>\n",
       "      <td>1000</td>\n",
       "      <td>2018-12-27</td>\n",
       "    </tr>\n",
       "    <tr>\n",
       "      <th>1</th>\n",
       "      <td>1000_160</td>\n",
       "      <td>1000</td>\n",
       "      <td>2018-12-31</td>\n",
       "    </tr>\n",
       "    <tr>\n",
       "      <th>2</th>\n",
       "      <td>1000_223</td>\n",
       "      <td>1000</td>\n",
       "      <td>2018-12-31</td>\n",
       "    </tr>\n",
       "    <tr>\n",
       "      <th>3</th>\n",
       "      <td>1000_251</td>\n",
       "      <td>1000</td>\n",
       "      <td>2018-12-27</td>\n",
       "    </tr>\n",
       "    <tr>\n",
       "      <th>4</th>\n",
       "      <td>1000_255</td>\n",
       "      <td>1000</td>\n",
       "      <td>2018-12-26</td>\n",
       "    </tr>\n",
       "  </tbody>\n",
       "</table>\n",
       "</div>"
      ],
      "text/plain": [
       "         id  user_id message_date\n",
       "0  1000_125     1000   2018-12-27\n",
       "1  1000_160     1000   2018-12-31\n",
       "2  1000_223     1000   2018-12-31\n",
       "3  1000_251     1000   2018-12-27\n",
       "4  1000_255     1000   2018-12-26"
      ]
     },
     "execution_count": 12,
     "metadata": {},
     "output_type": "execute_result"
    }
   ],
   "source": [
    "data_messages.info()\n",
    "data_messages.head()"
   ]
  },
  {
   "cell_type": "markdown",
   "id": "88ccf75c",
   "metadata": {},
   "source": [
    "- La columna de message_date se encuentra en un formato incorrecto\n",
    "- No hay valores ausentes"
   ]
  },
  {
   "cell_type": "code",
   "execution_count": 13,
   "id": "583e891a",
   "metadata": {},
   "outputs": [
    {
     "name": "stdout",
     "output_type": "stream",
     "text": [
      "<class 'pandas.core.frame.DataFrame'>\n",
      "RangeIndex: 76051 entries, 0 to 76050\n",
      "Data columns (total 3 columns):\n",
      " #   Column        Non-Null Count  Dtype         \n",
      "---  ------        --------------  -----         \n",
      " 0   id            76051 non-null  object        \n",
      " 1   user_id       76051 non-null  int64         \n",
      " 2   message_date  76051 non-null  datetime64[ns]\n",
      "dtypes: datetime64[ns](1), int64(1), object(1)\n",
      "memory usage: 1.7+ MB\n"
     ]
    }
   ],
   "source": [
    "#Cambiar tipo de datos en data_messages\n",
    "data_messages['message_date']= pd.to_datetime(data_messages['message_date'], format='%Y.%m.%d')\n",
    "data_messages.info()"
   ]
  },
  {
   "cell_type": "code",
   "execution_count": 14,
   "id": "14f30102",
   "metadata": {},
   "outputs": [
    {
     "name": "stdout",
     "output_type": "stream",
     "text": [
      "<class 'pandas.core.frame.DataFrame'>\n",
      "RangeIndex: 2 entries, 0 to 1\n",
      "Data columns (total 8 columns):\n",
      " #   Column                 Non-Null Count  Dtype  \n",
      "---  ------                 --------------  -----  \n",
      " 0   messages_included      2 non-null      int64  \n",
      " 1   mb_per_month_included  2 non-null      int64  \n",
      " 2   minutes_included       2 non-null      int64  \n",
      " 3   usd_monthly_pay        2 non-null      int64  \n",
      " 4   usd_per_gb             2 non-null      int64  \n",
      " 5   usd_per_message        2 non-null      float64\n",
      " 6   usd_per_minute         2 non-null      float64\n",
      " 7   plan_name              2 non-null      object \n",
      "dtypes: float64(2), int64(5), object(1)\n",
      "memory usage: 256.0+ bytes\n"
     ]
    },
    {
     "data": {
      "text/html": [
       "<div>\n",
       "<style scoped>\n",
       "    .dataframe tbody tr th:only-of-type {\n",
       "        vertical-align: middle;\n",
       "    }\n",
       "\n",
       "    .dataframe tbody tr th {\n",
       "        vertical-align: top;\n",
       "    }\n",
       "\n",
       "    .dataframe thead th {\n",
       "        text-align: right;\n",
       "    }\n",
       "</style>\n",
       "<table border=\"1\" class=\"dataframe\">\n",
       "  <thead>\n",
       "    <tr style=\"text-align: right;\">\n",
       "      <th></th>\n",
       "      <th>messages_included</th>\n",
       "      <th>mb_per_month_included</th>\n",
       "      <th>minutes_included</th>\n",
       "      <th>usd_monthly_pay</th>\n",
       "      <th>usd_per_gb</th>\n",
       "      <th>usd_per_message</th>\n",
       "      <th>usd_per_minute</th>\n",
       "      <th>plan_name</th>\n",
       "    </tr>\n",
       "  </thead>\n",
       "  <tbody>\n",
       "    <tr>\n",
       "      <th>0</th>\n",
       "      <td>50</td>\n",
       "      <td>15360</td>\n",
       "      <td>500</td>\n",
       "      <td>20</td>\n",
       "      <td>10</td>\n",
       "      <td>0.03</td>\n",
       "      <td>0.03</td>\n",
       "      <td>surf</td>\n",
       "    </tr>\n",
       "    <tr>\n",
       "      <th>1</th>\n",
       "      <td>1000</td>\n",
       "      <td>30720</td>\n",
       "      <td>3000</td>\n",
       "      <td>70</td>\n",
       "      <td>7</td>\n",
       "      <td>0.01</td>\n",
       "      <td>0.01</td>\n",
       "      <td>ultimate</td>\n",
       "    </tr>\n",
       "  </tbody>\n",
       "</table>\n",
       "</div>"
      ],
      "text/plain": [
       "   messages_included  mb_per_month_included  minutes_included  \\\n",
       "0                 50                  15360               500   \n",
       "1               1000                  30720              3000   \n",
       "\n",
       "   usd_monthly_pay  usd_per_gb  usd_per_message  usd_per_minute plan_name  \n",
       "0               20          10             0.03            0.03      surf  \n",
       "1               70           7             0.01            0.01  ultimate  "
      ]
     },
     "execution_count": 14,
     "metadata": {},
     "output_type": "execute_result"
    }
   ],
   "source": [
    "data_plans.info()\n",
    "data_plans"
   ]
  },
  {
   "cell_type": "code",
   "execution_count": 15,
   "id": "5f70c253",
   "metadata": {
    "scrolled": false
   },
   "outputs": [
    {
     "name": "stdout",
     "output_type": "stream",
     "text": [
      "user_id        0.0\n",
      "first_name     0.0\n",
      "last_name      0.0\n",
      "age            0.0\n",
      "city           0.0\n",
      "reg_date       0.0\n",
      "plan           0.0\n",
      "churn_date    93.2\n",
      "dtype: float64\n",
      "<class 'pandas.core.frame.DataFrame'>\n",
      "RangeIndex: 500 entries, 0 to 499\n",
      "Data columns (total 8 columns):\n",
      " #   Column      Non-Null Count  Dtype \n",
      "---  ------      --------------  ----- \n",
      " 0   user_id     500 non-null    int64 \n",
      " 1   first_name  500 non-null    object\n",
      " 2   last_name   500 non-null    object\n",
      " 3   age         500 non-null    int64 \n",
      " 4   city        500 non-null    object\n",
      " 5   reg_date    500 non-null    object\n",
      " 6   plan        500 non-null    object\n",
      " 7   churn_date  34 non-null     object\n",
      "dtypes: int64(2), object(6)\n",
      "memory usage: 31.4+ KB\n"
     ]
    },
    {
     "data": {
      "text/html": [
       "<div>\n",
       "<style scoped>\n",
       "    .dataframe tbody tr th:only-of-type {\n",
       "        vertical-align: middle;\n",
       "    }\n",
       "\n",
       "    .dataframe tbody tr th {\n",
       "        vertical-align: top;\n",
       "    }\n",
       "\n",
       "    .dataframe thead th {\n",
       "        text-align: right;\n",
       "    }\n",
       "</style>\n",
       "<table border=\"1\" class=\"dataframe\">\n",
       "  <thead>\n",
       "    <tr style=\"text-align: right;\">\n",
       "      <th></th>\n",
       "      <th>user_id</th>\n",
       "      <th>first_name</th>\n",
       "      <th>last_name</th>\n",
       "      <th>age</th>\n",
       "      <th>city</th>\n",
       "      <th>reg_date</th>\n",
       "      <th>plan</th>\n",
       "      <th>churn_date</th>\n",
       "    </tr>\n",
       "  </thead>\n",
       "  <tbody>\n",
       "    <tr>\n",
       "      <th>0</th>\n",
       "      <td>1000</td>\n",
       "      <td>Anamaria</td>\n",
       "      <td>Bauer</td>\n",
       "      <td>45</td>\n",
       "      <td>Atlanta-Sandy Springs-Roswell, GA MSA</td>\n",
       "      <td>2018-12-24</td>\n",
       "      <td>ultimate</td>\n",
       "      <td>NaN</td>\n",
       "    </tr>\n",
       "    <tr>\n",
       "      <th>1</th>\n",
       "      <td>1001</td>\n",
       "      <td>Mickey</td>\n",
       "      <td>Wilkerson</td>\n",
       "      <td>28</td>\n",
       "      <td>Seattle-Tacoma-Bellevue, WA MSA</td>\n",
       "      <td>2018-08-13</td>\n",
       "      <td>surf</td>\n",
       "      <td>NaN</td>\n",
       "    </tr>\n",
       "    <tr>\n",
       "      <th>2</th>\n",
       "      <td>1002</td>\n",
       "      <td>Carlee</td>\n",
       "      <td>Hoffman</td>\n",
       "      <td>36</td>\n",
       "      <td>Las Vegas-Henderson-Paradise, NV MSA</td>\n",
       "      <td>2018-10-21</td>\n",
       "      <td>surf</td>\n",
       "      <td>NaN</td>\n",
       "    </tr>\n",
       "    <tr>\n",
       "      <th>3</th>\n",
       "      <td>1003</td>\n",
       "      <td>Reynaldo</td>\n",
       "      <td>Jenkins</td>\n",
       "      <td>52</td>\n",
       "      <td>Tulsa, OK MSA</td>\n",
       "      <td>2018-01-28</td>\n",
       "      <td>surf</td>\n",
       "      <td>NaN</td>\n",
       "    </tr>\n",
       "    <tr>\n",
       "      <th>4</th>\n",
       "      <td>1004</td>\n",
       "      <td>Leonila</td>\n",
       "      <td>Thompson</td>\n",
       "      <td>40</td>\n",
       "      <td>Seattle-Tacoma-Bellevue, WA MSA</td>\n",
       "      <td>2018-05-23</td>\n",
       "      <td>surf</td>\n",
       "      <td>NaN</td>\n",
       "    </tr>\n",
       "  </tbody>\n",
       "</table>\n",
       "</div>"
      ],
      "text/plain": [
       "   user_id first_name  last_name  age                                   city  \\\n",
       "0     1000   Anamaria      Bauer   45  Atlanta-Sandy Springs-Roswell, GA MSA   \n",
       "1     1001     Mickey  Wilkerson   28        Seattle-Tacoma-Bellevue, WA MSA   \n",
       "2     1002     Carlee    Hoffman   36   Las Vegas-Henderson-Paradise, NV MSA   \n",
       "3     1003   Reynaldo    Jenkins   52                          Tulsa, OK MSA   \n",
       "4     1004    Leonila   Thompson   40        Seattle-Tacoma-Bellevue, WA MSA   \n",
       "\n",
       "     reg_date      plan churn_date  \n",
       "0  2018-12-24  ultimate        NaN  \n",
       "1  2018-08-13      surf        NaN  \n",
       "2  2018-10-21      surf        NaN  \n",
       "3  2018-01-28      surf        NaN  \n",
       "4  2018-05-23      surf        NaN  "
      ]
     },
     "execution_count": 15,
     "metadata": {},
     "output_type": "execute_result"
    }
   ],
   "source": [
    "porcent_table = (data_users.isna().sum()/len(data_users))*100\n",
    "print(porcent_table)\n",
    "data_users.info()\n",
    "data_users.head()"
   ]
  },
  {
   "cell_type": "markdown",
   "id": "1ae80ddf",
   "metadata": {},
   "source": [
    "- La columna reg_date se encuentra en un formato incorrecto y churn_date tiene que estar en formato de fecha, ya que es la fecha en que el usuario dejó de usar el servicio\n",
    "- Podemos ver que hay valores ausentes en la columna de churn_date, esto se debe a que la tarifa se estaba usando cuando se recuperaron estos datos, sustituiremos los ausentes con una fecha diferente para tener la información que los usuarios no abandonaron el plan"
   ]
  },
  {
   "cell_type": "code",
   "execution_count": 16,
   "id": "2ed31792",
   "metadata": {
    "scrolled": false
   },
   "outputs": [
    {
     "name": "stdout",
     "output_type": "stream",
     "text": [
      "<class 'pandas.core.frame.DataFrame'>\n",
      "RangeIndex: 500 entries, 0 to 499\n",
      "Data columns (total 8 columns):\n",
      " #   Column      Non-Null Count  Dtype         \n",
      "---  ------      --------------  -----         \n",
      " 0   user_id     500 non-null    int64         \n",
      " 1   first_name  500 non-null    object        \n",
      " 2   last_name   500 non-null    object        \n",
      " 3   age         500 non-null    int64         \n",
      " 4   city        500 non-null    object        \n",
      " 5   reg_date    500 non-null    datetime64[ns]\n",
      " 6   plan        500 non-null    object        \n",
      " 7   churn_date  500 non-null    datetime64[ns]\n",
      "dtypes: datetime64[ns](2), int64(2), object(4)\n",
      "memory usage: 31.4+ KB\n"
     ]
    },
    {
     "data": {
      "text/html": [
       "<div>\n",
       "<style scoped>\n",
       "    .dataframe tbody tr th:only-of-type {\n",
       "        vertical-align: middle;\n",
       "    }\n",
       "\n",
       "    .dataframe tbody tr th {\n",
       "        vertical-align: top;\n",
       "    }\n",
       "\n",
       "    .dataframe thead th {\n",
       "        text-align: right;\n",
       "    }\n",
       "</style>\n",
       "<table border=\"1\" class=\"dataframe\">\n",
       "  <thead>\n",
       "    <tr style=\"text-align: right;\">\n",
       "      <th></th>\n",
       "      <th>user_id</th>\n",
       "      <th>first_name</th>\n",
       "      <th>last_name</th>\n",
       "      <th>age</th>\n",
       "      <th>city</th>\n",
       "      <th>reg_date</th>\n",
       "      <th>plan</th>\n",
       "      <th>churn_date</th>\n",
       "    </tr>\n",
       "  </thead>\n",
       "  <tbody>\n",
       "    <tr>\n",
       "      <th>0</th>\n",
       "      <td>1000</td>\n",
       "      <td>Anamaria</td>\n",
       "      <td>Bauer</td>\n",
       "      <td>45</td>\n",
       "      <td>Atlanta-Sandy Springs-Roswell, GA MSA</td>\n",
       "      <td>2018-12-24</td>\n",
       "      <td>ultimate</td>\n",
       "      <td>1900-01-01</td>\n",
       "    </tr>\n",
       "    <tr>\n",
       "      <th>1</th>\n",
       "      <td>1001</td>\n",
       "      <td>Mickey</td>\n",
       "      <td>Wilkerson</td>\n",
       "      <td>28</td>\n",
       "      <td>Seattle-Tacoma-Bellevue, WA MSA</td>\n",
       "      <td>2018-08-13</td>\n",
       "      <td>surf</td>\n",
       "      <td>1900-01-01</td>\n",
       "    </tr>\n",
       "    <tr>\n",
       "      <th>2</th>\n",
       "      <td>1002</td>\n",
       "      <td>Carlee</td>\n",
       "      <td>Hoffman</td>\n",
       "      <td>36</td>\n",
       "      <td>Las Vegas-Henderson-Paradise, NV MSA</td>\n",
       "      <td>2018-10-21</td>\n",
       "      <td>surf</td>\n",
       "      <td>1900-01-01</td>\n",
       "    </tr>\n",
       "    <tr>\n",
       "      <th>3</th>\n",
       "      <td>1003</td>\n",
       "      <td>Reynaldo</td>\n",
       "      <td>Jenkins</td>\n",
       "      <td>52</td>\n",
       "      <td>Tulsa, OK MSA</td>\n",
       "      <td>2018-01-28</td>\n",
       "      <td>surf</td>\n",
       "      <td>1900-01-01</td>\n",
       "    </tr>\n",
       "    <tr>\n",
       "      <th>4</th>\n",
       "      <td>1004</td>\n",
       "      <td>Leonila</td>\n",
       "      <td>Thompson</td>\n",
       "      <td>40</td>\n",
       "      <td>Seattle-Tacoma-Bellevue, WA MSA</td>\n",
       "      <td>2018-05-23</td>\n",
       "      <td>surf</td>\n",
       "      <td>1900-01-01</td>\n",
       "    </tr>\n",
       "  </tbody>\n",
       "</table>\n",
       "</div>"
      ],
      "text/plain": [
       "   user_id first_name  last_name  age                                   city  \\\n",
       "0     1000   Anamaria      Bauer   45  Atlanta-Sandy Springs-Roswell, GA MSA   \n",
       "1     1001     Mickey  Wilkerson   28        Seattle-Tacoma-Bellevue, WA MSA   \n",
       "2     1002     Carlee    Hoffman   36   Las Vegas-Henderson-Paradise, NV MSA   \n",
       "3     1003   Reynaldo    Jenkins   52                          Tulsa, OK MSA   \n",
       "4     1004    Leonila   Thompson   40        Seattle-Tacoma-Bellevue, WA MSA   \n",
       "\n",
       "    reg_date      plan churn_date  \n",
       "0 2018-12-24  ultimate 1900-01-01  \n",
       "1 2018-08-13      surf 1900-01-01  \n",
       "2 2018-10-21      surf 1900-01-01  \n",
       "3 2018-01-28      surf 1900-01-01  \n",
       "4 2018-05-23      surf 1900-01-01  "
      ]
     },
     "execution_count": 16,
     "metadata": {},
     "output_type": "execute_result"
    }
   ],
   "source": [
    "#Cambiar tipo de datos en data_user\n",
    "data_users['reg_date']= pd.to_datetime(data_users['reg_date'], format='%Y.%m.%d')\n",
    "date = '1900-01-01'\n",
    "#datetime_date = pd.to_datetime(date, format='%Y.%m.%d')\n",
    "data_users['churn_date'] = data_users['churn_date'].fillna(date)\n",
    "data_users['churn_date']= pd.to_datetime(data_users['churn_date'], format='%Y.%m.%d')\n",
    "data_users.info()\n",
    "data_users.head()"
   ]
  },
  {
   "cell_type": "code",
   "execution_count": 17,
   "id": "b9f06e87",
   "metadata": {},
   "outputs": [
    {
     "data": {
      "text/html": [
       "<div>\n",
       "<style scoped>\n",
       "    .dataframe tbody tr th:only-of-type {\n",
       "        vertical-align: middle;\n",
       "    }\n",
       "\n",
       "    .dataframe tbody tr th {\n",
       "        vertical-align: top;\n",
       "    }\n",
       "\n",
       "    .dataframe thead th {\n",
       "        text-align: right;\n",
       "    }\n",
       "</style>\n",
       "<table border=\"1\" class=\"dataframe\">\n",
       "  <thead>\n",
       "    <tr style=\"text-align: right;\">\n",
       "      <th></th>\n",
       "      <th>user_id</th>\n",
       "      <th>city</th>\n",
       "      <th>plan</th>\n",
       "      <th>churn_date</th>\n",
       "    </tr>\n",
       "  </thead>\n",
       "  <tbody>\n",
       "    <tr>\n",
       "      <th>0</th>\n",
       "      <td>1000</td>\n",
       "      <td>Atlanta-Sandy Springs-Roswell, GA MSA</td>\n",
       "      <td>ultimate</td>\n",
       "      <td>1900-01-01</td>\n",
       "    </tr>\n",
       "    <tr>\n",
       "      <th>1</th>\n",
       "      <td>1001</td>\n",
       "      <td>Seattle-Tacoma-Bellevue, WA MSA</td>\n",
       "      <td>surf</td>\n",
       "      <td>1900-01-01</td>\n",
       "    </tr>\n",
       "    <tr>\n",
       "      <th>2</th>\n",
       "      <td>1002</td>\n",
       "      <td>Las Vegas-Henderson-Paradise, NV MSA</td>\n",
       "      <td>surf</td>\n",
       "      <td>1900-01-01</td>\n",
       "    </tr>\n",
       "    <tr>\n",
       "      <th>3</th>\n",
       "      <td>1003</td>\n",
       "      <td>Tulsa, OK MSA</td>\n",
       "      <td>surf</td>\n",
       "      <td>1900-01-01</td>\n",
       "    </tr>\n",
       "    <tr>\n",
       "      <th>4</th>\n",
       "      <td>1004</td>\n",
       "      <td>Seattle-Tacoma-Bellevue, WA MSA</td>\n",
       "      <td>surf</td>\n",
       "      <td>1900-01-01</td>\n",
       "    </tr>\n",
       "    <tr>\n",
       "      <th>...</th>\n",
       "      <td>...</td>\n",
       "      <td>...</td>\n",
       "      <td>...</td>\n",
       "      <td>...</td>\n",
       "    </tr>\n",
       "    <tr>\n",
       "      <th>495</th>\n",
       "      <td>1495</td>\n",
       "      <td>New York-Newark-Jersey City, NY-NJ-PA MSA</td>\n",
       "      <td>surf</td>\n",
       "      <td>1900-01-01</td>\n",
       "    </tr>\n",
       "    <tr>\n",
       "      <th>496</th>\n",
       "      <td>1496</td>\n",
       "      <td>New Orleans-Metairie, LA MSA</td>\n",
       "      <td>surf</td>\n",
       "      <td>1900-01-01</td>\n",
       "    </tr>\n",
       "    <tr>\n",
       "      <th>497</th>\n",
       "      <td>1497</td>\n",
       "      <td>Los Angeles-Long Beach-Anaheim, CA MSA</td>\n",
       "      <td>ultimate</td>\n",
       "      <td>1900-01-01</td>\n",
       "    </tr>\n",
       "    <tr>\n",
       "      <th>498</th>\n",
       "      <td>1498</td>\n",
       "      <td>New York-Newark-Jersey City, NY-NJ-PA MSA</td>\n",
       "      <td>surf</td>\n",
       "      <td>1900-01-01</td>\n",
       "    </tr>\n",
       "    <tr>\n",
       "      <th>499</th>\n",
       "      <td>1499</td>\n",
       "      <td>Orlando-Kissimmee-Sanford, FL MSA</td>\n",
       "      <td>surf</td>\n",
       "      <td>1900-01-01</td>\n",
       "    </tr>\n",
       "  </tbody>\n",
       "</table>\n",
       "<p>500 rows × 4 columns</p>\n",
       "</div>"
      ],
      "text/plain": [
       "     user_id                                       city      plan churn_date\n",
       "0       1000      Atlanta-Sandy Springs-Roswell, GA MSA  ultimate 1900-01-01\n",
       "1       1001            Seattle-Tacoma-Bellevue, WA MSA      surf 1900-01-01\n",
       "2       1002       Las Vegas-Henderson-Paradise, NV MSA      surf 1900-01-01\n",
       "3       1003                              Tulsa, OK MSA      surf 1900-01-01\n",
       "4       1004            Seattle-Tacoma-Bellevue, WA MSA      surf 1900-01-01\n",
       "..       ...                                        ...       ...        ...\n",
       "495     1495  New York-Newark-Jersey City, NY-NJ-PA MSA      surf 1900-01-01\n",
       "496     1496               New Orleans-Metairie, LA MSA      surf 1900-01-01\n",
       "497     1497     Los Angeles-Long Beach-Anaheim, CA MSA  ultimate 1900-01-01\n",
       "498     1498  New York-Newark-Jersey City, NY-NJ-PA MSA      surf 1900-01-01\n",
       "499     1499          Orlando-Kissimmee-Sanford, FL MSA      surf 1900-01-01\n",
       "\n",
       "[500 rows x 4 columns]"
      ]
     },
     "execution_count": 17,
     "metadata": {},
     "output_type": "execute_result"
    }
   ],
   "source": [
    "#creamos un DataFrame con el plan de cada usuario\n",
    "data_users_plan = data_users.drop(columns = ['first_name', 'last_name', 'age', 'reg_date'])\n",
    "data_users_plan"
   ]
  },
  {
   "cell_type": "markdown",
   "id": "74649af7",
   "metadata": {},
   "source": [
    "#### ingresos mensuales de cada usuario por llamada"
   ]
  },
  {
   "cell_type": "code",
   "execution_count": 18,
   "id": "fedb5b85",
   "metadata": {
    "scrolled": true
   },
   "outputs": [
    {
     "data": {
      "text/html": [
       "<div>\n",
       "<style scoped>\n",
       "    .dataframe tbody tr th:only-of-type {\n",
       "        vertical-align: middle;\n",
       "    }\n",
       "\n",
       "    .dataframe tbody tr th {\n",
       "        vertical-align: top;\n",
       "    }\n",
       "\n",
       "    .dataframe thead th {\n",
       "        text-align: right;\n",
       "    }\n",
       "</style>\n",
       "<table border=\"1\" class=\"dataframe\">\n",
       "  <thead>\n",
       "    <tr style=\"text-align: right;\">\n",
       "      <th></th>\n",
       "      <th>user_id</th>\n",
       "      <th>month</th>\n",
       "      <th>calls</th>\n",
       "      <th>duration</th>\n",
       "      <th>city</th>\n",
       "      <th>plan</th>\n",
       "      <th>churn_date</th>\n",
       "      <th>income_minutes</th>\n",
       "    </tr>\n",
       "  </thead>\n",
       "  <tbody>\n",
       "    <tr>\n",
       "      <th>0</th>\n",
       "      <td>1000</td>\n",
       "      <td>12</td>\n",
       "      <td>16</td>\n",
       "      <td>124.0</td>\n",
       "      <td>Atlanta-Sandy Springs-Roswell, GA MSA</td>\n",
       "      <td>ultimate</td>\n",
       "      <td>1900-01-01</td>\n",
       "      <td>0.0</td>\n",
       "    </tr>\n",
       "    <tr>\n",
       "      <th>1</th>\n",
       "      <td>1001</td>\n",
       "      <td>8</td>\n",
       "      <td>27</td>\n",
       "      <td>182.0</td>\n",
       "      <td>Seattle-Tacoma-Bellevue, WA MSA</td>\n",
       "      <td>surf</td>\n",
       "      <td>1900-01-01</td>\n",
       "      <td>0.0</td>\n",
       "    </tr>\n",
       "    <tr>\n",
       "      <th>2</th>\n",
       "      <td>1001</td>\n",
       "      <td>9</td>\n",
       "      <td>49</td>\n",
       "      <td>315.0</td>\n",
       "      <td>Seattle-Tacoma-Bellevue, WA MSA</td>\n",
       "      <td>surf</td>\n",
       "      <td>1900-01-01</td>\n",
       "      <td>0.0</td>\n",
       "    </tr>\n",
       "    <tr>\n",
       "      <th>3</th>\n",
       "      <td>1001</td>\n",
       "      <td>10</td>\n",
       "      <td>65</td>\n",
       "      <td>393.0</td>\n",
       "      <td>Seattle-Tacoma-Bellevue, WA MSA</td>\n",
       "      <td>surf</td>\n",
       "      <td>1900-01-01</td>\n",
       "      <td>0.0</td>\n",
       "    </tr>\n",
       "    <tr>\n",
       "      <th>4</th>\n",
       "      <td>1001</td>\n",
       "      <td>11</td>\n",
       "      <td>64</td>\n",
       "      <td>426.0</td>\n",
       "      <td>Seattle-Tacoma-Bellevue, WA MSA</td>\n",
       "      <td>surf</td>\n",
       "      <td>1900-01-01</td>\n",
       "      <td>0.0</td>\n",
       "    </tr>\n",
       "    <tr>\n",
       "      <th>...</th>\n",
       "      <td>...</td>\n",
       "      <td>...</td>\n",
       "      <td>...</td>\n",
       "      <td>...</td>\n",
       "      <td>...</td>\n",
       "      <td>...</td>\n",
       "      <td>...</td>\n",
       "      <td>...</td>\n",
       "    </tr>\n",
       "    <tr>\n",
       "      <th>2253</th>\n",
       "      <td>1498</td>\n",
       "      <td>12</td>\n",
       "      <td>39</td>\n",
       "      <td>339.0</td>\n",
       "      <td>New York-Newark-Jersey City, NY-NJ-PA MSA</td>\n",
       "      <td>surf</td>\n",
       "      <td>1900-01-01</td>\n",
       "      <td>0.0</td>\n",
       "    </tr>\n",
       "    <tr>\n",
       "      <th>2254</th>\n",
       "      <td>1499</td>\n",
       "      <td>9</td>\n",
       "      <td>41</td>\n",
       "      <td>346.0</td>\n",
       "      <td>Orlando-Kissimmee-Sanford, FL MSA</td>\n",
       "      <td>surf</td>\n",
       "      <td>1900-01-01</td>\n",
       "      <td>0.0</td>\n",
       "    </tr>\n",
       "    <tr>\n",
       "      <th>2255</th>\n",
       "      <td>1499</td>\n",
       "      <td>10</td>\n",
       "      <td>53</td>\n",
       "      <td>385.0</td>\n",
       "      <td>Orlando-Kissimmee-Sanford, FL MSA</td>\n",
       "      <td>surf</td>\n",
       "      <td>1900-01-01</td>\n",
       "      <td>0.0</td>\n",
       "    </tr>\n",
       "    <tr>\n",
       "      <th>2256</th>\n",
       "      <td>1499</td>\n",
       "      <td>11</td>\n",
       "      <td>45</td>\n",
       "      <td>308.0</td>\n",
       "      <td>Orlando-Kissimmee-Sanford, FL MSA</td>\n",
       "      <td>surf</td>\n",
       "      <td>1900-01-01</td>\n",
       "      <td>0.0</td>\n",
       "    </tr>\n",
       "    <tr>\n",
       "      <th>2257</th>\n",
       "      <td>1499</td>\n",
       "      <td>12</td>\n",
       "      <td>65</td>\n",
       "      <td>496.0</td>\n",
       "      <td>Orlando-Kissimmee-Sanford, FL MSA</td>\n",
       "      <td>surf</td>\n",
       "      <td>1900-01-01</td>\n",
       "      <td>0.0</td>\n",
       "    </tr>\n",
       "  </tbody>\n",
       "</table>\n",
       "<p>2258 rows × 8 columns</p>\n",
       "</div>"
      ],
      "text/plain": [
       "      user_id  month  calls  duration  \\\n",
       "0        1000     12     16     124.0   \n",
       "1        1001      8     27     182.0   \n",
       "2        1001      9     49     315.0   \n",
       "3        1001     10     65     393.0   \n",
       "4        1001     11     64     426.0   \n",
       "...       ...    ...    ...       ...   \n",
       "2253     1498     12     39     339.0   \n",
       "2254     1499      9     41     346.0   \n",
       "2255     1499     10     53     385.0   \n",
       "2256     1499     11     45     308.0   \n",
       "2257     1499     12     65     496.0   \n",
       "\n",
       "                                           city      plan churn_date  \\\n",
       "0         Atlanta-Sandy Springs-Roswell, GA MSA  ultimate 1900-01-01   \n",
       "1               Seattle-Tacoma-Bellevue, WA MSA      surf 1900-01-01   \n",
       "2               Seattle-Tacoma-Bellevue, WA MSA      surf 1900-01-01   \n",
       "3               Seattle-Tacoma-Bellevue, WA MSA      surf 1900-01-01   \n",
       "4               Seattle-Tacoma-Bellevue, WA MSA      surf 1900-01-01   \n",
       "...                                         ...       ...        ...   \n",
       "2253  New York-Newark-Jersey City, NY-NJ-PA MSA      surf 1900-01-01   \n",
       "2254          Orlando-Kissimmee-Sanford, FL MSA      surf 1900-01-01   \n",
       "2255          Orlando-Kissimmee-Sanford, FL MSA      surf 1900-01-01   \n",
       "2256          Orlando-Kissimmee-Sanford, FL MSA      surf 1900-01-01   \n",
       "2257          Orlando-Kissimmee-Sanford, FL MSA      surf 1900-01-01   \n",
       "\n",
       "      income_minutes  \n",
       "0                0.0  \n",
       "1                0.0  \n",
       "2                0.0  \n",
       "3                0.0  \n",
       "4                0.0  \n",
       "...              ...  \n",
       "2253             0.0  \n",
       "2254             0.0  \n",
       "2255             0.0  \n",
       "2256             0.0  \n",
       "2257             0.0  \n",
       "\n",
       "[2258 rows x 8 columns]"
      ]
     },
     "execution_count": 18,
     "metadata": {},
     "output_type": "execute_result"
    }
   ],
   "source": [
    "#El número de llamadas realizadas y minutos utilizados al mes \n",
    "data_calls[\"month\"] = data_calls[\"call_date\"].dt.month\n",
    "#Tabla dinamica juntando el mes de cada usuario  \n",
    "data_calls_month = pd.pivot_table(data_calls, index = ['user_id', 'month'], values = 'duration', aggfunc = ['count', 'sum']) \n",
    "#Cambiamos el index y convertimos los valores a columnas \n",
    "data_calls_month = data_calls_month.reset_index() \n",
    "#Cambiamos el nombre de las columnas \n",
    "data_calls_month.columns = ['user_id', 'month', 'calls', 'duration'] \n",
    "# Juntamos con el metodo merge\n",
    "data_calls_month = data_calls_month.merge(data_users_plan, on='user_id', how='left') \n",
    "#Creamos una columna con los ingresos extras por llamada  \n",
    "def extra_minutes(row): \n",
    "    duration = row['duration'] \n",
    "    if row['plan'] == 'surf': \n",
    "        if duration > 500: \n",
    "            return (duration - 500) * 0.03 \n",
    "    if row['plan'] == 'ultimate': \n",
    "        if duration > 3000: \n",
    "            return (duration - 3000) * 0.01 \n",
    "    return 0 \n",
    "#probando la funciòn  \n",
    "row_values = [0]   \n",
    "row_columns = ['duration'] \n",
    "row = pd.Series(data=row_values, index=row_columns) \n",
    "# Crear una nueva columna basada en la función \n",
    "data_calls_month['income_minutes'] = data_calls_month.apply(extra_minutes, axis = 1) \n",
    "data_calls_month"
   ]
  },
  {
   "cell_type": "markdown",
   "id": "bdf54e21",
   "metadata": {},
   "source": [
    "#### ingresos mensuales de cada usuario por mensaje"
   ]
  },
  {
   "cell_type": "code",
   "execution_count": 19,
   "id": "647b592e",
   "metadata": {},
   "outputs": [
    {
     "data": {
      "text/html": [
       "<div>\n",
       "<style scoped>\n",
       "    .dataframe tbody tr th:only-of-type {\n",
       "        vertical-align: middle;\n",
       "    }\n",
       "\n",
       "    .dataframe tbody tr th {\n",
       "        vertical-align: top;\n",
       "    }\n",
       "\n",
       "    .dataframe thead th {\n",
       "        text-align: right;\n",
       "    }\n",
       "</style>\n",
       "<table border=\"1\" class=\"dataframe\">\n",
       "  <thead>\n",
       "    <tr style=\"text-align: right;\">\n",
       "      <th></th>\n",
       "      <th>user_id</th>\n",
       "      <th>month</th>\n",
       "      <th>messages</th>\n",
       "      <th>city</th>\n",
       "      <th>plan</th>\n",
       "      <th>churn_date</th>\n",
       "      <th>income_messages</th>\n",
       "    </tr>\n",
       "  </thead>\n",
       "  <tbody>\n",
       "    <tr>\n",
       "      <th>0</th>\n",
       "      <td>1000</td>\n",
       "      <td>12</td>\n",
       "      <td>11</td>\n",
       "      <td>Atlanta-Sandy Springs-Roswell, GA MSA</td>\n",
       "      <td>ultimate</td>\n",
       "      <td>1900-01-01</td>\n",
       "      <td>0.00</td>\n",
       "    </tr>\n",
       "    <tr>\n",
       "      <th>1</th>\n",
       "      <td>1001</td>\n",
       "      <td>8</td>\n",
       "      <td>30</td>\n",
       "      <td>Seattle-Tacoma-Bellevue, WA MSA</td>\n",
       "      <td>surf</td>\n",
       "      <td>1900-01-01</td>\n",
       "      <td>0.00</td>\n",
       "    </tr>\n",
       "    <tr>\n",
       "      <th>2</th>\n",
       "      <td>1001</td>\n",
       "      <td>9</td>\n",
       "      <td>44</td>\n",
       "      <td>Seattle-Tacoma-Bellevue, WA MSA</td>\n",
       "      <td>surf</td>\n",
       "      <td>1900-01-01</td>\n",
       "      <td>0.00</td>\n",
       "    </tr>\n",
       "    <tr>\n",
       "      <th>3</th>\n",
       "      <td>1001</td>\n",
       "      <td>10</td>\n",
       "      <td>53</td>\n",
       "      <td>Seattle-Tacoma-Bellevue, WA MSA</td>\n",
       "      <td>surf</td>\n",
       "      <td>1900-01-01</td>\n",
       "      <td>0.09</td>\n",
       "    </tr>\n",
       "    <tr>\n",
       "      <th>4</th>\n",
       "      <td>1001</td>\n",
       "      <td>11</td>\n",
       "      <td>36</td>\n",
       "      <td>Seattle-Tacoma-Bellevue, WA MSA</td>\n",
       "      <td>surf</td>\n",
       "      <td>1900-01-01</td>\n",
       "      <td>0.00</td>\n",
       "    </tr>\n",
       "    <tr>\n",
       "      <th>...</th>\n",
       "      <td>...</td>\n",
       "      <td>...</td>\n",
       "      <td>...</td>\n",
       "      <td>...</td>\n",
       "      <td>...</td>\n",
       "      <td>...</td>\n",
       "      <td>...</td>\n",
       "    </tr>\n",
       "    <tr>\n",
       "      <th>1801</th>\n",
       "      <td>1496</td>\n",
       "      <td>9</td>\n",
       "      <td>21</td>\n",
       "      <td>New Orleans-Metairie, LA MSA</td>\n",
       "      <td>surf</td>\n",
       "      <td>1900-01-01</td>\n",
       "      <td>0.00</td>\n",
       "    </tr>\n",
       "    <tr>\n",
       "      <th>1802</th>\n",
       "      <td>1496</td>\n",
       "      <td>10</td>\n",
       "      <td>18</td>\n",
       "      <td>New Orleans-Metairie, LA MSA</td>\n",
       "      <td>surf</td>\n",
       "      <td>1900-01-01</td>\n",
       "      <td>0.00</td>\n",
       "    </tr>\n",
       "    <tr>\n",
       "      <th>1803</th>\n",
       "      <td>1496</td>\n",
       "      <td>11</td>\n",
       "      <td>13</td>\n",
       "      <td>New Orleans-Metairie, LA MSA</td>\n",
       "      <td>surf</td>\n",
       "      <td>1900-01-01</td>\n",
       "      <td>0.00</td>\n",
       "    </tr>\n",
       "    <tr>\n",
       "      <th>1804</th>\n",
       "      <td>1496</td>\n",
       "      <td>12</td>\n",
       "      <td>11</td>\n",
       "      <td>New Orleans-Metairie, LA MSA</td>\n",
       "      <td>surf</td>\n",
       "      <td>1900-01-01</td>\n",
       "      <td>0.00</td>\n",
       "    </tr>\n",
       "    <tr>\n",
       "      <th>1805</th>\n",
       "      <td>1497</td>\n",
       "      <td>12</td>\n",
       "      <td>50</td>\n",
       "      <td>Los Angeles-Long Beach-Anaheim, CA MSA</td>\n",
       "      <td>ultimate</td>\n",
       "      <td>1900-01-01</td>\n",
       "      <td>0.00</td>\n",
       "    </tr>\n",
       "  </tbody>\n",
       "</table>\n",
       "<p>1806 rows × 7 columns</p>\n",
       "</div>"
      ],
      "text/plain": [
       "      user_id  month  messages                                    city  \\\n",
       "0        1000     12        11   Atlanta-Sandy Springs-Roswell, GA MSA   \n",
       "1        1001      8        30         Seattle-Tacoma-Bellevue, WA MSA   \n",
       "2        1001      9        44         Seattle-Tacoma-Bellevue, WA MSA   \n",
       "3        1001     10        53         Seattle-Tacoma-Bellevue, WA MSA   \n",
       "4        1001     11        36         Seattle-Tacoma-Bellevue, WA MSA   \n",
       "...       ...    ...       ...                                     ...   \n",
       "1801     1496      9        21            New Orleans-Metairie, LA MSA   \n",
       "1802     1496     10        18            New Orleans-Metairie, LA MSA   \n",
       "1803     1496     11        13            New Orleans-Metairie, LA MSA   \n",
       "1804     1496     12        11            New Orleans-Metairie, LA MSA   \n",
       "1805     1497     12        50  Los Angeles-Long Beach-Anaheim, CA MSA   \n",
       "\n",
       "          plan churn_date  income_messages  \n",
       "0     ultimate 1900-01-01             0.00  \n",
       "1         surf 1900-01-01             0.00  \n",
       "2         surf 1900-01-01             0.00  \n",
       "3         surf 1900-01-01             0.09  \n",
       "4         surf 1900-01-01             0.00  \n",
       "...        ...        ...              ...  \n",
       "1801      surf 1900-01-01             0.00  \n",
       "1802      surf 1900-01-01             0.00  \n",
       "1803      surf 1900-01-01             0.00  \n",
       "1804      surf 1900-01-01             0.00  \n",
       "1805  ultimate 1900-01-01             0.00  \n",
       "\n",
       "[1806 rows x 7 columns]"
      ]
     },
     "execution_count": 19,
     "metadata": {},
     "output_type": "execute_result"
    }
   ],
   "source": [
    "#El número de mensajes realizados al mes \n",
    "data_messages['month'] = data_messages['message_date'].dt.month \n",
    "#Tabla dinamica juntando el mes de cada usuario  \n",
    "data_messages_month = pd.pivot_table(data_messages, index = ['user_id', 'month'], values = 'message_date', aggfunc = 'count') \n",
    "#Cambiamos el index y convertimos los valores a columnas \n",
    "data_messages_month = data_messages_month.reset_index()\n",
    "# Juntamos con el metodo merge\n",
    "data_messages_month = data_messages_month.merge(data_users_plan, on='user_id', how='left') \n",
    "#Cambiamos el nombre de las columnas \n",
    "data_messages_month.columns = ['user_id', 'month', 'messages', 'city', 'plan', 'churn_date'] \n",
    "#Creamos una columna con los ingresos extras por llamada  \n",
    "def extra_messages(row): \n",
    "    messages = row['messages'] \n",
    "    if row['plan'] == 'surf': \n",
    "        if messages > 50: \n",
    "            return (messages - 50) * 0.03 \n",
    "    if row['plan'] == 'ultimate': \n",
    "        if messages > 1000: \n",
    "            return (messages - 1000) * 0.01 \n",
    "    return 0 \n",
    "#probando la funciòn  \n",
    "row_values = [0]   \n",
    "row_columns = ['messages'] \n",
    "row = pd.Series(data=row_values, index=row_columns) \n",
    "# Crear una nueva columna basada en la función \n",
    "data_messages_month['income_messages'] = data_messages_month.apply(extra_messages, axis = 1) \n",
    "data_messages_month"
   ]
  },
  {
   "cell_type": "markdown",
   "id": "56c8f671",
   "metadata": {},
   "source": [
    "#### ingresos mensuales de cada usuario por consumo de datos"
   ]
  },
  {
   "cell_type": "code",
   "execution_count": 20,
   "id": "c242a98c",
   "metadata": {},
   "outputs": [
    {
     "name": "stdout",
     "output_type": "stream",
     "text": [
      "<class 'pandas.core.frame.DataFrame'>\n",
      "Int64Index: 2288 entries, 0 to 2287\n",
      "Data columns (total 7 columns):\n",
      " #   Column      Non-Null Count  Dtype         \n",
      "---  ------      --------------  -----         \n",
      " 0   user_id     2288 non-null   int64         \n",
      " 1   month       2277 non-null   float64       \n",
      " 2   gb_used     2277 non-null   float64       \n",
      " 3   city        2288 non-null   object        \n",
      " 4   plan        2288 non-null   object        \n",
      " 5   churn_date  2288 non-null   datetime64[ns]\n",
      " 6   income_gb   2288 non-null   float64       \n",
      "dtypes: datetime64[ns](1), float64(3), int64(1), object(2)\n",
      "memory usage: 143.0+ KB\n"
     ]
    }
   ],
   "source": [
    "#El número de mensajes realizados al mes \n",
    "data_internet['month'] = data_internet['session_date'].dt.month \n",
    "#Tabla dinamica juntando el mes de cada usuario  \n",
    "data_internet_month = pd.pivot_table(data_internet, index = ['user_id', 'month'], values = 'mb_used', aggfunc = 'sum') \n",
    "#Cambiamos el index y convertimos los valores a columnas \n",
    "data_internet_month = data_internet_month.reset_index()\n",
    "# Juntamos con el metodo merge\n",
    "data_internet_month = data_internet_month.merge(data_users_plan, on='user_id', how='outer') \n",
    "#convertimos los mb a gb \n",
    "data_internet_month['mb_used'] = (data_internet_month['mb_used'] / 1024).apply(np.ceil)  \n",
    "#Cambiamos el nombre de las columnas \n",
    "data_internet_month.columns = ['user_id', 'month', 'gb_used', 'city', 'plan', 'churn_date']\n",
    "#Creamos una columna con los ingresos extras por gb  \n",
    "def extra_gb(row): \n",
    "    gb_used = row['gb_used'] \n",
    "    if row['plan'] == 'surf': \n",
    "        if gb_used > 15: \n",
    "            return (gb_used - 15) * 10 \n",
    "    if row['plan'] == 'ultimate': \n",
    "        if gb_used > 30: \n",
    "            return (gb_used - 30) * 7 \n",
    "    return 0 \n",
    "#probando la funciòn  \n",
    "row_values = [0]   \n",
    "row_columns = ['gb_used'] \n",
    "row = pd.Series(data=row_values, index=row_columns) \n",
    "# Crear una nueva columna basada en la función \n",
    "data_internet_month['income_gb'] = data_internet_month.apply(extra_gb, axis = 1) \n",
    "data_internet_month.info()"
   ]
  },
  {
   "cell_type": "markdown",
   "id": "d49991f4",
   "metadata": {},
   "source": [
    "Creamos un DataFrame donde unimos la información de data_internet_month, data_calls_month y data_messages_month, los valores ausentes los sustituiremos por ceros "
   ]
  },
  {
   "cell_type": "code",
   "execution_count": 21,
   "id": "67e89110",
   "metadata": {},
   "outputs": [],
   "source": [
    "data_messages_month = data_messages_month.drop(columns = ['churn_date', 'city'])\n",
    "data_calls_month = data_calls_month.drop(columns = ['churn_date', 'city'])"
   ]
  },
  {
   "cell_type": "code",
   "execution_count": 22,
   "id": "0defa5bc",
   "metadata": {
    "scrolled": false
   },
   "outputs": [
    {
     "name": "stdout",
     "output_type": "stream",
     "text": [
      "<class 'pandas.core.frame.DataFrame'>\n",
      "Int64Index: 2304 entries, 0 to 2303\n",
      "Data columns (total 14 columns):\n",
      " #   Column              Non-Null Count  Dtype  \n",
      "---  ------              --------------  -----  \n",
      " 0   user_id             2304 non-null   int64  \n",
      " 1   month               2304 non-null   float64\n",
      " 2   gb_used             2304 non-null   float64\n",
      " 3   city                2304 non-null   object \n",
      " 4   plan                2304 non-null   object \n",
      " 5   churn_date          2304 non-null   object \n",
      " 6   income_gb           2304 non-null   float64\n",
      " 7   messages            2304 non-null   float64\n",
      " 8   income_messages     2304 non-null   float64\n",
      " 9   calls               2304 non-null   float64\n",
      " 10  duration            2304 non-null   float64\n",
      " 11  income_minutes      2304 non-null   float64\n",
      " 12  total_income_extra  2304 non-null   float64\n",
      " 13  total_income        2304 non-null   float64\n",
      "dtypes: float64(10), int64(1), object(3)\n",
      "memory usage: 270.0+ KB\n"
     ]
    },
    {
     "data": {
      "text/html": [
       "<div>\n",
       "<style scoped>\n",
       "    .dataframe tbody tr th:only-of-type {\n",
       "        vertical-align: middle;\n",
       "    }\n",
       "\n",
       "    .dataframe tbody tr th {\n",
       "        vertical-align: top;\n",
       "    }\n",
       "\n",
       "    .dataframe thead th {\n",
       "        text-align: right;\n",
       "    }\n",
       "</style>\n",
       "<table border=\"1\" class=\"dataframe\">\n",
       "  <thead>\n",
       "    <tr style=\"text-align: right;\">\n",
       "      <th></th>\n",
       "      <th>user_id</th>\n",
       "      <th>month</th>\n",
       "      <th>gb_used</th>\n",
       "      <th>city</th>\n",
       "      <th>plan</th>\n",
       "      <th>churn_date</th>\n",
       "      <th>income_gb</th>\n",
       "      <th>messages</th>\n",
       "      <th>income_messages</th>\n",
       "      <th>calls</th>\n",
       "      <th>duration</th>\n",
       "      <th>income_minutes</th>\n",
       "      <th>total_income_extra</th>\n",
       "      <th>total_income</th>\n",
       "    </tr>\n",
       "  </thead>\n",
       "  <tbody>\n",
       "    <tr>\n",
       "      <th>0</th>\n",
       "      <td>1000</td>\n",
       "      <td>12.0</td>\n",
       "      <td>2.0</td>\n",
       "      <td>Atlanta-Sandy Springs-Roswell, GA MSA</td>\n",
       "      <td>ultimate</td>\n",
       "      <td>1900-01-01 00:00:00</td>\n",
       "      <td>0.0</td>\n",
       "      <td>11.0</td>\n",
       "      <td>0.00</td>\n",
       "      <td>16.0</td>\n",
       "      <td>124.0</td>\n",
       "      <td>0.0</td>\n",
       "      <td>0.00</td>\n",
       "      <td>70.00</td>\n",
       "    </tr>\n",
       "    <tr>\n",
       "      <th>1</th>\n",
       "      <td>1001</td>\n",
       "      <td>8.0</td>\n",
       "      <td>7.0</td>\n",
       "      <td>Seattle-Tacoma-Bellevue, WA MSA</td>\n",
       "      <td>surf</td>\n",
       "      <td>1900-01-01 00:00:00</td>\n",
       "      <td>0.0</td>\n",
       "      <td>30.0</td>\n",
       "      <td>0.00</td>\n",
       "      <td>27.0</td>\n",
       "      <td>182.0</td>\n",
       "      <td>0.0</td>\n",
       "      <td>0.00</td>\n",
       "      <td>20.00</td>\n",
       "    </tr>\n",
       "    <tr>\n",
       "      <th>2</th>\n",
       "      <td>1001</td>\n",
       "      <td>9.0</td>\n",
       "      <td>14.0</td>\n",
       "      <td>Seattle-Tacoma-Bellevue, WA MSA</td>\n",
       "      <td>surf</td>\n",
       "      <td>1900-01-01 00:00:00</td>\n",
       "      <td>0.0</td>\n",
       "      <td>44.0</td>\n",
       "      <td>0.00</td>\n",
       "      <td>49.0</td>\n",
       "      <td>315.0</td>\n",
       "      <td>0.0</td>\n",
       "      <td>0.00</td>\n",
       "      <td>20.00</td>\n",
       "    </tr>\n",
       "    <tr>\n",
       "      <th>3</th>\n",
       "      <td>1001</td>\n",
       "      <td>10.0</td>\n",
       "      <td>22.0</td>\n",
       "      <td>Seattle-Tacoma-Bellevue, WA MSA</td>\n",
       "      <td>surf</td>\n",
       "      <td>1900-01-01 00:00:00</td>\n",
       "      <td>70.0</td>\n",
       "      <td>53.0</td>\n",
       "      <td>0.09</td>\n",
       "      <td>65.0</td>\n",
       "      <td>393.0</td>\n",
       "      <td>0.0</td>\n",
       "      <td>70.09</td>\n",
       "      <td>90.09</td>\n",
       "    </tr>\n",
       "    <tr>\n",
       "      <th>4</th>\n",
       "      <td>1001</td>\n",
       "      <td>11.0</td>\n",
       "      <td>19.0</td>\n",
       "      <td>Seattle-Tacoma-Bellevue, WA MSA</td>\n",
       "      <td>surf</td>\n",
       "      <td>1900-01-01 00:00:00</td>\n",
       "      <td>40.0</td>\n",
       "      <td>36.0</td>\n",
       "      <td>0.00</td>\n",
       "      <td>64.0</td>\n",
       "      <td>426.0</td>\n",
       "      <td>0.0</td>\n",
       "      <td>40.00</td>\n",
       "      <td>60.00</td>\n",
       "    </tr>\n",
       "  </tbody>\n",
       "</table>\n",
       "</div>"
      ],
      "text/plain": [
       "   user_id  month  gb_used                                   city      plan  \\\n",
       "0     1000   12.0      2.0  Atlanta-Sandy Springs-Roswell, GA MSA  ultimate   \n",
       "1     1001    8.0      7.0        Seattle-Tacoma-Bellevue, WA MSA      surf   \n",
       "2     1001    9.0     14.0        Seattle-Tacoma-Bellevue, WA MSA      surf   \n",
       "3     1001   10.0     22.0        Seattle-Tacoma-Bellevue, WA MSA      surf   \n",
       "4     1001   11.0     19.0        Seattle-Tacoma-Bellevue, WA MSA      surf   \n",
       "\n",
       "            churn_date  income_gb  messages  income_messages  calls  duration  \\\n",
       "0  1900-01-01 00:00:00        0.0      11.0             0.00   16.0     124.0   \n",
       "1  1900-01-01 00:00:00        0.0      30.0             0.00   27.0     182.0   \n",
       "2  1900-01-01 00:00:00        0.0      44.0             0.00   49.0     315.0   \n",
       "3  1900-01-01 00:00:00       70.0      53.0             0.09   65.0     393.0   \n",
       "4  1900-01-01 00:00:00       40.0      36.0             0.00   64.0     426.0   \n",
       "\n",
       "   income_minutes  total_income_extra  total_income  \n",
       "0             0.0                0.00         70.00  \n",
       "1             0.0                0.00         20.00  \n",
       "2             0.0                0.00         20.00  \n",
       "3             0.0               70.09         90.09  \n",
       "4             0.0               40.00         60.00  "
      ]
     },
     "execution_count": 22,
     "metadata": {},
     "output_type": "execute_result"
    }
   ],
   "source": [
    "data_final = pd.merge(data_internet_month, data_messages_month, on=['user_id', 'month', 'plan'], how='outer')\n",
    "data_final = pd.merge(data_final, data_calls_month, on=['user_id', 'month', 'plan'], how='outer')\n",
    "data_final = data_final.fillna(0)\n",
    "data_final['total_income_extra'] = data_final['income_gb'] + data_final['income_minutes'] + data_final['income_messages']\n",
    "#agregamos una columna con el total de ingresos por usuario y por mes, incluyendo la tarifa del plan\n",
    "def total_income_extra(row):\n",
    "    total_income_extra = row['total_income_extra']\n",
    "    if row['plan'] == 'surf':\n",
    "        return total_income_extra + 20\n",
    "    if row['plan'] == 'ultimate':\n",
    "        return total_income_extra + 70\n",
    "\n",
    "row_values = [70]  \n",
    "row_columns = ['total_income_extra']\n",
    "row = pd.Series(data=row_values, index=row_columns)\n",
    "data_final['total_income'] = data_final.apply(total_income_extra, axis = 1).fillna(0)\n",
    "\n",
    "data_final.info()\n",
    "data_final.head()"
   ]
  },
  {
   "cell_type": "markdown",
   "id": "cea41348",
   "metadata": {},
   "source": [
    "## Analiza los datos "
   ]
  },
  {
   "cell_type": "markdown",
   "id": "26cf5797",
   "metadata": {},
   "source": [
    "### Describe el comportamiento de los clientes. "
   ]
  },
  {
   "cell_type": "code",
   "execution_count": 23,
   "id": "5123ab15",
   "metadata": {},
   "outputs": [
    {
     "data": {
      "image/png": "[encoded data removed]",
      "text/plain": [
       "<Figure size 432x288 with 1 Axes>"
      ]
     },
     "metadata": {
      "needs_background": "light"
     },
     "output_type": "display_data"
    },
    {
     "data": {
      "image/png": "[encoded data removed]",
      "text/plain": [
       "<Figure size 432x288 with 1 Axes>"
      ]
     },
     "metadata": {
      "needs_background": "light"
     },
     "output_type": "display_data"
    }
   ],
   "source": [
    "data_users.query('plan == \"surf\"').plot(y='age', kind='hist', bins=10, grid = True, title = 'surf')\n",
    "data_users.query('plan == \"ultimate\"').plot(y='age', kind='hist', bins=10, grid = True, title = 'ultimate')\n",
    "plt.show()"
   ]
  },
  {
   "cell_type": "markdown",
   "id": "a98fa305",
   "metadata": {},
   "source": [
    "- En los histogramas de edad, podemos ver que los clientes entre 18 y 35 años es mas comun que contraten el programa surf \n",
    "- En los histogramas de edad, podemos ver que los clientes de 18, 20, 50 y 65 años es mas comun que contraten el programa uiltimate"
   ]
  },
  {
   "cell_type": "markdown",
   "id": "c7376ec8",
   "metadata": {},
   "source": [
    "### Encuentra los minutos que requieren los usuarios de cada tarifa"
   ]
  },
  {
   "cell_type": "code",
   "execution_count": 24,
   "id": "10d63c3b",
   "metadata": {},
   "outputs": [
    {
     "data": {
      "image/png": "[encoded data removed]",
      "text/plain": [
       "<Figure size 432x288 with 1 Axes>"
      ]
     },
     "metadata": {
      "needs_background": "light"
     },
     "output_type": "display_data"
    },
    {
     "data": {
      "image/png": "[encoded data removed]",
      "text/plain": [
       "<Figure size 432x288 with 1 Axes>"
      ]
     },
     "metadata": {
      "needs_background": "light"
     },
     "output_type": "display_data"
    },
    {
     "data": {
      "text/html": [
       "<div>\n",
       "<style scoped>\n",
       "    .dataframe tbody tr th:only-of-type {\n",
       "        vertical-align: middle;\n",
       "    }\n",
       "\n",
       "    .dataframe tbody tr th {\n",
       "        vertical-align: top;\n",
       "    }\n",
       "\n",
       "    .dataframe thead th {\n",
       "        text-align: right;\n",
       "    }\n",
       "</style>\n",
       "<table border=\"1\" class=\"dataframe\">\n",
       "  <thead>\n",
       "    <tr style=\"text-align: right;\">\n",
       "      <th></th>\n",
       "      <th>media</th>\n",
       "      <th>mediana</th>\n",
       "      <th>varianza</th>\n",
       "      <th>des std</th>\n",
       "    </tr>\n",
       "    <tr>\n",
       "      <th>plan</th>\n",
       "      <th></th>\n",
       "      <th></th>\n",
       "      <th></th>\n",
       "      <th></th>\n",
       "    </tr>\n",
       "  </thead>\n",
       "  <tbody>\n",
       "    <tr>\n",
       "      <th>surf</th>\n",
       "      <td>426.850000</td>\n",
       "      <td>424.0</td>\n",
       "      <td>55535.919854</td>\n",
       "      <td>235.660603</td>\n",
       "    </tr>\n",
       "    <tr>\n",
       "      <th>ultimate</th>\n",
       "      <td>428.071823</td>\n",
       "      <td>421.5</td>\n",
       "      <td>58543.878652</td>\n",
       "      <td>241.958423</td>\n",
       "    </tr>\n",
       "  </tbody>\n",
       "</table>\n",
       "</div>"
      ],
      "text/plain": [
       "               media  mediana      varianza     des std\n",
       "plan                                                   \n",
       "surf      426.850000    424.0  55535.919854  235.660603\n",
       "ultimate  428.071823    421.5  58543.878652  241.958423"
      ]
     },
     "execution_count": 24,
     "metadata": {},
     "output_type": "execute_result"
    }
   ],
   "source": [
    "# Creamos histogramas para los minutos que requieren los usuarios de cada tarifa\n",
    "data_surf = data_final.query('plan == \"surf\"')\n",
    "data_ultimate = data_final.query('plan == \"ultimate\"')\n",
    "#calculamos la media, la varianza y la desviaciòn estandar por plan\n",
    "data_call_avg = data_final.pivot_table(index='plan', values = 'duration', aggfunc= ['mean', 'median','var', 'std'])\n",
    "data_call_avg.columns = ['media', 'mediana', 'varianza', 'des std']\n",
    "# Creamos graficos para cada una de ellas \n",
    "data_surf.plot(y='duration', kind='hist', bins=20, grid = True, title = 'surf')\n",
    "data_ultimate.plot(y='duration', kind='hist', bins=20, grid = True, title = 'ultimate')\n",
    "plt.show()\n",
    "data_call_avg"
   ]
  },
  {
   "cell_type": "markdown",
   "id": "e2f0c71b",
   "metadata": {},
   "source": [
    "- En el plan `surf`, podemos observar que hay un pico entre 300 y 600 minutos\n",
    "- En el plan `ultimate` podemos observar que hay un pico 500 minutos \n",
    "- Comparando los histogramas podemos observar que los usuarios del plan `surf`, usan mas minutos \n",
    "- En el plan `surf` podemos ver que la media es muy similar a la mediana, esto quiere decir que los datos se distribuyen de forma simétrica alrededor de la media\n",
    "- En el plan `ultimate` podemos ver que la media es mayor que la mediana, esto quiere decir que los datos tienen una asimetría positiva\n",
    "- La desviación estándar en el plan `surf` es baja, indica hay una menor dispersión de los datos"
   ]
  },
  {
   "cell_type": "markdown",
   "id": "6bf372b3",
   "metadata": {},
   "source": [
    "### SMS que requieren los usuarios de cada tarifa"
   ]
  },
  {
   "cell_type": "code",
   "execution_count": 25,
   "id": "33cb6637",
   "metadata": {},
   "outputs": [
    {
     "data": {
      "image/png": "[encoded data removed]",
      "text/plain": [
       "<Figure size 432x288 with 1 Axes>"
      ]
     },
     "metadata": {
      "needs_background": "light"
     },
     "output_type": "display_data"
    },
    {
     "data": {
      "image/png": "[encoded data removed]",
      "text/plain": [
       "<Figure size 432x288 with 1 Axes>"
      ]
     },
     "metadata": {
      "needs_background": "light"
     },
     "output_type": "display_data"
    },
    {
     "data": {
      "text/html": [
       "<div>\n",
       "<style scoped>\n",
       "    .dataframe tbody tr th:only-of-type {\n",
       "        vertical-align: middle;\n",
       "    }\n",
       "\n",
       "    .dataframe tbody tr th {\n",
       "        vertical-align: top;\n",
       "    }\n",
       "\n",
       "    .dataframe thead th {\n",
       "        text-align: right;\n",
       "    }\n",
       "</style>\n",
       "<table border=\"1\" class=\"dataframe\">\n",
       "  <thead>\n",
       "    <tr style=\"text-align: right;\">\n",
       "      <th></th>\n",
       "      <th>media</th>\n",
       "      <th>mediana</th>\n",
       "      <th>varianza</th>\n",
       "      <th>des std</th>\n",
       "    </tr>\n",
       "    <tr>\n",
       "      <th>plan</th>\n",
       "      <th></th>\n",
       "      <th></th>\n",
       "      <th></th>\n",
       "      <th></th>\n",
       "    </tr>\n",
       "  </thead>\n",
       "  <tbody>\n",
       "    <tr>\n",
       "      <th>surf</th>\n",
       "      <td>31.021519</td>\n",
       "      <td>24.0</td>\n",
       "      <td>1126.014736</td>\n",
       "      <td>33.556143</td>\n",
       "    </tr>\n",
       "    <tr>\n",
       "      <th>ultimate</th>\n",
       "      <td>37.343923</td>\n",
       "      <td>30.0</td>\n",
       "      <td>1209.827612</td>\n",
       "      <td>34.782576</td>\n",
       "    </tr>\n",
       "  </tbody>\n",
       "</table>\n",
       "</div>"
      ],
      "text/plain": [
       "              media  mediana     varianza    des std\n",
       "plan                                                \n",
       "surf      31.021519     24.0  1126.014736  33.556143\n",
       "ultimate  37.343923     30.0  1209.827612  34.782576"
      ]
     },
     "execution_count": 25,
     "metadata": {},
     "output_type": "execute_result"
    }
   ],
   "source": [
    "# Creamos histogramas para los messages que requieren los usuarios de cada tarifa \n",
    "data_surf = data_final.query('plan == \"surf\"')\n",
    "data_ultimate = data_final.query('plan == \"ultimate\"')\n",
    "#calculamos la media, la varianza y la desviaciòn estandar por plan\n",
    "data_messages_avg = data_final.pivot_table(index='plan', values = 'messages', aggfunc= ['mean', 'median','var', 'std'])\n",
    "data_messages_avg.columns = ['media', 'mediana', 'varianza', 'des std']\n",
    "data_surf.plot(y='messages', kind='hist', bins=10, grid = True, title = 'surf')\n",
    "data_ultimate.plot(y='messages', kind='hist', bins=10, grid = True, title = 'ultimate')\n",
    "plt.show()\n",
    "data_messages_avg"
   ]
  },
  {
   "cell_type": "markdown",
   "id": "01f2d554",
   "metadata": {},
   "source": [
    "- En el plan `surf`, podemos observar que la mayor parte de los datos se encuentran entre 0 y 50 mensajes \n",
    "- En el plan `ultimate` podemos observar que hay un pico de 0 a 30 mensajes \n",
    "- Comparando los histogramas podemos observar que los usuarios del plan `Surf`, usan mas mensajes \n",
    "- En el plan `surf` podemos ver que la media es mayor que la mediana, los datos tienen una asimetría positiva.\n",
    "- En el plan `ultimate` podemos ver que la media es mayor que la mediana, los datos tienen una asimetría positiva."
   ]
  },
  {
   "cell_type": "markdown",
   "id": "3c45d77b",
   "metadata": {},
   "source": [
    "### Volumen de datos que requieren los usuarios de cada tarifa por mes. "
   ]
  },
  {
   "cell_type": "code",
   "execution_count": 26,
   "id": "a51e2084",
   "metadata": {},
   "outputs": [
    {
     "data": {
      "image/png": "[encoded data removed]",
      "text/plain": [
       "<Figure size 432x288 with 1 Axes>"
      ]
     },
     "metadata": {
      "needs_background": "light"
     },
     "output_type": "display_data"
    },
    {
     "data": {
      "image/png": "[encoded data removed]",
      "text/plain": [
       "<Figure size 432x288 with 1 Axes>"
      ]
     },
     "metadata": {
      "needs_background": "light"
     },
     "output_type": "display_data"
    },
    {
     "data": {
      "text/html": [
       "<div>\n",
       "<style scoped>\n",
       "    .dataframe tbody tr th:only-of-type {\n",
       "        vertical-align: middle;\n",
       "    }\n",
       "\n",
       "    .dataframe tbody tr th {\n",
       "        vertical-align: top;\n",
       "    }\n",
       "\n",
       "    .dataframe thead th {\n",
       "        text-align: right;\n",
       "    }\n",
       "</style>\n",
       "<table border=\"1\" class=\"dataframe\">\n",
       "  <thead>\n",
       "    <tr style=\"text-align: right;\">\n",
       "      <th></th>\n",
       "      <th>media</th>\n",
       "      <th>mediana</th>\n",
       "      <th>varianza</th>\n",
       "      <th>des std</th>\n",
       "    </tr>\n",
       "    <tr>\n",
       "      <th>plan</th>\n",
       "      <th></th>\n",
       "      <th></th>\n",
       "      <th></th>\n",
       "      <th></th>\n",
       "    </tr>\n",
       "  </thead>\n",
       "  <tbody>\n",
       "    <tr>\n",
       "      <th>surf</th>\n",
       "      <td>16.596835</td>\n",
       "      <td>17.0</td>\n",
       "      <td>62.537165</td>\n",
       "      <td>7.908044</td>\n",
       "    </tr>\n",
       "    <tr>\n",
       "      <th>ultimate</th>\n",
       "      <td>17.211326</td>\n",
       "      <td>17.0</td>\n",
       "      <td>60.153067</td>\n",
       "      <td>7.755841</td>\n",
       "    </tr>\n",
       "  </tbody>\n",
       "</table>\n",
       "</div>"
      ],
      "text/plain": [
       "              media  mediana   varianza   des std\n",
       "plan                                             \n",
       "surf      16.596835     17.0  62.537165  7.908044\n",
       "ultimate  17.211326     17.0  60.153067  7.755841"
      ]
     },
     "execution_count": 26,
     "metadata": {},
     "output_type": "execute_result"
    }
   ],
   "source": [
    "# Creamos histogramas para los messages que requieren los usuarios de cada tarifa \n",
    "data_surf = data_final.query('plan == \"surf\"')\n",
    "data_ultimate = data_final.query('plan == \"ultimate\"')\n",
    "#calculamos la media, la varianza y la desviaciòn estandar por plan\n",
    "data_gb_avg = data_final.pivot_table(index='plan', values = 'gb_used', aggfunc= ['mean', 'median','var', 'std'])\n",
    "data_gb_avg.columns = ['media', 'mediana', 'varianza', 'des std']\n",
    "data_surf.plot(y='gb_used', kind='hist', bins=10, grid = True, title = 'surf')\n",
    "data_ultimate.plot(y='gb_used', kind='hist', bins=10, grid = True, title = 'ultimate')\n",
    "plt.show()\n",
    "data_gb_avg"
   ]
  },
  {
   "cell_type": "markdown",
   "id": "9cc3b838",
   "metadata": {},
   "source": [
    "- En el plan `surf`, podemos observar un pico entre 10 y 20 gb\n",
    "- En el plan `ultimate` podemos observar un pico entre 10 y 20 gb\n",
    "- Comparando los histogramas podemos observar que los usuarios con el plan `surf`, usan mas Gb\n",
    "- En el plan `surf` y `ultimate` podemos ver que la media es muy similar a la mediana, esto nos indica que en los dos planes la distribuciòn es simetrica\n",
    "- La desviaciòn estandar en el plan `surf` y `ultimate` es baja, indica hay menor dispersión de los datos"
   ]
  },
  {
   "cell_type": "markdown",
   "id": "f7716a24",
   "metadata": {},
   "source": [
    "## Prueba las hipótesis"
   ]
  },
  {
   "cell_type": "markdown",
   "id": "b4b0c1ae",
   "metadata": {},
   "source": [
    "### El ingreso promedio de los usuarios de las tarifas Ultimate y Surf difiere."
   ]
  },
  {
   "cell_type": "code",
   "execution_count": 27,
   "id": "8fbc352c",
   "metadata": {},
   "outputs": [
    {
     "data": {
      "text/html": [
       "<div>\n",
       "<style scoped>\n",
       "    .dataframe tbody tr th:only-of-type {\n",
       "        vertical-align: middle;\n",
       "    }\n",
       "\n",
       "    .dataframe tbody tr th {\n",
       "        vertical-align: top;\n",
       "    }\n",
       "\n",
       "    .dataframe thead tr th {\n",
       "        text-align: left;\n",
       "    }\n",
       "\n",
       "    .dataframe thead tr:last-of-type th {\n",
       "        text-align: right;\n",
       "    }\n",
       "</style>\n",
       "<table border=\"1\" class=\"dataframe\">\n",
       "  <thead>\n",
       "    <tr>\n",
       "      <th></th>\n",
       "      <th>mean</th>\n",
       "      <th>var</th>\n",
       "    </tr>\n",
       "    <tr>\n",
       "      <th></th>\n",
       "      <th>total_income</th>\n",
       "      <th>total_income</th>\n",
       "    </tr>\n",
       "    <tr>\n",
       "      <th>plan</th>\n",
       "      <th></th>\n",
       "      <th></th>\n",
       "    </tr>\n",
       "  </thead>\n",
       "  <tbody>\n",
       "    <tr>\n",
       "      <th>surf</th>\n",
       "      <td>60.526063</td>\n",
       "      <td>3061.548165</td>\n",
       "    </tr>\n",
       "    <tr>\n",
       "      <th>ultimate</th>\n",
       "      <td>72.301105</td>\n",
       "      <td>129.159556</td>\n",
       "    </tr>\n",
       "  </tbody>\n",
       "</table>\n",
       "</div>"
      ],
      "text/plain": [
       "                 mean          var\n",
       "         total_income total_income\n",
       "plan                              \n",
       "surf        60.526063  3061.548165\n",
       "ultimate    72.301105   129.159556"
      ]
     },
     "execution_count": 27,
     "metadata": {},
     "output_type": "execute_result"
    }
   ],
   "source": [
    "data_final.pivot_table(index='plan', values = 'total_income', aggfunc=['mean', 'var'])"
   ]
  },
  {
   "cell_type": "code",
   "execution_count": 28,
   "id": "633d4202",
   "metadata": {},
   "outputs": [
    {
     "name": "stdout",
     "output_type": "stream",
     "text": [
      "128.98115900003052\n",
      "3059.610476401058\n"
     ]
    }
   ],
   "source": [
    "income_ultimate_plan = data_final.query('plan == \"ultimate\"')['total_income_extra']\n",
    "print(np.var(income_ultimate_plan))\n",
    "income_surf_plan = data_final.query('plan == \"surf\"')['total_income_extra']\n",
    "print(np.var(income_surf_plan))"
   ]
  },
  {
   "cell_type": "markdown",
   "id": "4fb31eea",
   "metadata": {},
   "source": [
    "- Hipótesis nula = El promedio de los ingresos por usuarios de las tarifas `Ultimate` y `Surf` son iguales. \n",
    "- Hipótesis alternativa = El promedio de los ingresos por usuarios de las tarifas `Ultimate` y `Surf` son diferentes."
   ]
  },
  {
   "cell_type": "markdown",
   "id": "a154b912",
   "metadata": {},
   "source": [
    "Como las varianzas no son iguales, hay que establecer el parámetro equal_var en False"
   ]
  },
  {
   "cell_type": "code",
   "execution_count": 29,
   "id": "1d6f57ec",
   "metadata": {},
   "outputs": [
    {
     "name": "stdout",
     "output_type": "stream",
     "text": [
      "p-value: 1.3986405648962838e-129\n",
      "Rechazamos la hipótesis nula\n"
     ]
    }
   ],
   "source": [
    "# establece un nivel crítico de significación estadística\n",
    "alpha = 0.05\n",
    "# realiza la prueba y calcula el valor p entre los dos datasets\n",
    "results = st.ttest_ind(income_surf_plan, income_ultimate_plan, equal_var = False)\n",
    "print('p-value:', results.pvalue )\n",
    "# Compara el valor p con la significación estadística\n",
    "if results.pvalue < alpha:\n",
    "    print(\"Rechazamos la hipótesis nula\")\n",
    "else:\n",
    "    print(\"No rechazamos la hipótesis nula\")"
   ]
  },
  {
   "cell_type": "markdown",
   "id": "25b7d729",
   "metadata": {},
   "source": [
    "- Los ingresos entre `Surf`y `Ultimate` no es igual, se rechaza la hipótesis nula"
   ]
  },
  {
   "cell_type": "markdown",
   "id": "a0cdf8e5",
   "metadata": {},
   "source": [
    "### El ingreso promedio de los usuarios en el área de estados Nueva York-Nueva Jersey es diferente al de los usuarios de otras regiones."
   ]
  },
  {
   "cell_type": "code",
   "execution_count": 30,
   "id": "6e6d90b0",
   "metadata": {},
   "outputs": [
    {
     "data": {
      "text/html": [
       "<div>\n",
       "<style scoped>\n",
       "    .dataframe tbody tr th:only-of-type {\n",
       "        vertical-align: middle;\n",
       "    }\n",
       "\n",
       "    .dataframe tbody tr th {\n",
       "        vertical-align: top;\n",
       "    }\n",
       "\n",
       "    .dataframe thead th {\n",
       "        text-align: right;\n",
       "    }\n",
       "</style>\n",
       "<table border=\"1\" class=\"dataframe\">\n",
       "  <thead>\n",
       "    <tr style=\"text-align: right;\">\n",
       "      <th></th>\n",
       "      <th>user_id</th>\n",
       "      <th>month</th>\n",
       "      <th>gb_used</th>\n",
       "      <th>city</th>\n",
       "      <th>plan</th>\n",
       "      <th>churn_date</th>\n",
       "      <th>income_gb</th>\n",
       "      <th>messages</th>\n",
       "      <th>income_messages</th>\n",
       "      <th>calls</th>\n",
       "      <th>duration</th>\n",
       "      <th>income_minutes</th>\n",
       "      <th>total_income_extra</th>\n",
       "      <th>total_income</th>\n",
       "    </tr>\n",
       "  </thead>\n",
       "  <tbody>\n",
       "    <tr>\n",
       "      <th>0</th>\n",
       "      <td>1000</td>\n",
       "      <td>12.0</td>\n",
       "      <td>2.0</td>\n",
       "      <td>Other</td>\n",
       "      <td>ultimate</td>\n",
       "      <td>1900-01-01 00:00:00</td>\n",
       "      <td>0.0</td>\n",
       "      <td>11.0</td>\n",
       "      <td>0.00</td>\n",
       "      <td>16.0</td>\n",
       "      <td>124.0</td>\n",
       "      <td>0.00</td>\n",
       "      <td>0.00</td>\n",
       "      <td>70.00</td>\n",
       "    </tr>\n",
       "    <tr>\n",
       "      <th>1</th>\n",
       "      <td>1001</td>\n",
       "      <td>8.0</td>\n",
       "      <td>7.0</td>\n",
       "      <td>Other</td>\n",
       "      <td>surf</td>\n",
       "      <td>1900-01-01 00:00:00</td>\n",
       "      <td>0.0</td>\n",
       "      <td>30.0</td>\n",
       "      <td>0.00</td>\n",
       "      <td>27.0</td>\n",
       "      <td>182.0</td>\n",
       "      <td>0.00</td>\n",
       "      <td>0.00</td>\n",
       "      <td>20.00</td>\n",
       "    </tr>\n",
       "    <tr>\n",
       "      <th>2</th>\n",
       "      <td>1001</td>\n",
       "      <td>9.0</td>\n",
       "      <td>14.0</td>\n",
       "      <td>Other</td>\n",
       "      <td>surf</td>\n",
       "      <td>1900-01-01 00:00:00</td>\n",
       "      <td>0.0</td>\n",
       "      <td>44.0</td>\n",
       "      <td>0.00</td>\n",
       "      <td>49.0</td>\n",
       "      <td>315.0</td>\n",
       "      <td>0.00</td>\n",
       "      <td>0.00</td>\n",
       "      <td>20.00</td>\n",
       "    </tr>\n",
       "    <tr>\n",
       "      <th>3</th>\n",
       "      <td>1001</td>\n",
       "      <td>10.0</td>\n",
       "      <td>22.0</td>\n",
       "      <td>Other</td>\n",
       "      <td>surf</td>\n",
       "      <td>1900-01-01 00:00:00</td>\n",
       "      <td>70.0</td>\n",
       "      <td>53.0</td>\n",
       "      <td>0.09</td>\n",
       "      <td>65.0</td>\n",
       "      <td>393.0</td>\n",
       "      <td>0.00</td>\n",
       "      <td>70.09</td>\n",
       "      <td>90.09</td>\n",
       "    </tr>\n",
       "    <tr>\n",
       "      <th>4</th>\n",
       "      <td>1001</td>\n",
       "      <td>11.0</td>\n",
       "      <td>19.0</td>\n",
       "      <td>Other</td>\n",
       "      <td>surf</td>\n",
       "      <td>1900-01-01 00:00:00</td>\n",
       "      <td>40.0</td>\n",
       "      <td>36.0</td>\n",
       "      <td>0.00</td>\n",
       "      <td>64.0</td>\n",
       "      <td>426.0</td>\n",
       "      <td>0.00</td>\n",
       "      <td>40.00</td>\n",
       "      <td>60.00</td>\n",
       "    </tr>\n",
       "    <tr>\n",
       "      <th>...</th>\n",
       "      <td>...</td>\n",
       "      <td>...</td>\n",
       "      <td>...</td>\n",
       "      <td>...</td>\n",
       "      <td>...</td>\n",
       "      <td>...</td>\n",
       "      <td>...</td>\n",
       "      <td>...</td>\n",
       "      <td>...</td>\n",
       "      <td>...</td>\n",
       "      <td>...</td>\n",
       "      <td>...</td>\n",
       "      <td>...</td>\n",
       "      <td>...</td>\n",
       "    </tr>\n",
       "    <tr>\n",
       "      <th>2299</th>\n",
       "      <td>1470</td>\n",
       "      <td>12.0</td>\n",
       "      <td>0.0</td>\n",
       "      <td>Other</td>\n",
       "      <td>surf</td>\n",
       "      <td>0</td>\n",
       "      <td>0.0</td>\n",
       "      <td>153.0</td>\n",
       "      <td>3.09</td>\n",
       "      <td>78.0</td>\n",
       "      <td>592.0</td>\n",
       "      <td>2.76</td>\n",
       "      <td>5.85</td>\n",
       "      <td>25.85</td>\n",
       "    </tr>\n",
       "    <tr>\n",
       "      <th>2300</th>\n",
       "      <td>1482</td>\n",
       "      <td>10.0</td>\n",
       "      <td>0.0</td>\n",
       "      <td>Other</td>\n",
       "      <td>ultimate</td>\n",
       "      <td>0</td>\n",
       "      <td>0.0</td>\n",
       "      <td>2.0</td>\n",
       "      <td>0.00</td>\n",
       "      <td>0.0</td>\n",
       "      <td>0.0</td>\n",
       "      <td>0.00</td>\n",
       "      <td>0.00</td>\n",
       "      <td>70.00</td>\n",
       "    </tr>\n",
       "    <tr>\n",
       "      <th>2301</th>\n",
       "      <td>1484</td>\n",
       "      <td>11.0</td>\n",
       "      <td>0.0</td>\n",
       "      <td>Other</td>\n",
       "      <td>surf</td>\n",
       "      <td>0</td>\n",
       "      <td>0.0</td>\n",
       "      <td>1.0</td>\n",
       "      <td>0.00</td>\n",
       "      <td>2.0</td>\n",
       "      <td>38.0</td>\n",
       "      <td>0.00</td>\n",
       "      <td>0.00</td>\n",
       "      <td>20.00</td>\n",
       "    </tr>\n",
       "    <tr>\n",
       "      <th>2302</th>\n",
       "      <td>1491</td>\n",
       "      <td>4.0</td>\n",
       "      <td>0.0</td>\n",
       "      <td>Other</td>\n",
       "      <td>surf</td>\n",
       "      <td>0</td>\n",
       "      <td>0.0</td>\n",
       "      <td>6.0</td>\n",
       "      <td>0.00</td>\n",
       "      <td>8.0</td>\n",
       "      <td>44.0</td>\n",
       "      <td>0.00</td>\n",
       "      <td>0.00</td>\n",
       "      <td>20.00</td>\n",
       "    </tr>\n",
       "    <tr>\n",
       "      <th>2303</th>\n",
       "      <td>1044</td>\n",
       "      <td>8.0</td>\n",
       "      <td>0.0</td>\n",
       "      <td>Other</td>\n",
       "      <td>surf</td>\n",
       "      <td>0</td>\n",
       "      <td>0.0</td>\n",
       "      <td>0.0</td>\n",
       "      <td>0.00</td>\n",
       "      <td>1.0</td>\n",
       "      <td>13.0</td>\n",
       "      <td>0.00</td>\n",
       "      <td>0.00</td>\n",
       "      <td>20.00</td>\n",
       "    </tr>\n",
       "  </tbody>\n",
       "</table>\n",
       "<p>2304 rows × 14 columns</p>\n",
       "</div>"
      ],
      "text/plain": [
       "      user_id  month  gb_used   city      plan           churn_date  \\\n",
       "0        1000   12.0      2.0  Other  ultimate  1900-01-01 00:00:00   \n",
       "1        1001    8.0      7.0  Other      surf  1900-01-01 00:00:00   \n",
       "2        1001    9.0     14.0  Other      surf  1900-01-01 00:00:00   \n",
       "3        1001   10.0     22.0  Other      surf  1900-01-01 00:00:00   \n",
       "4        1001   11.0     19.0  Other      surf  1900-01-01 00:00:00   \n",
       "...       ...    ...      ...    ...       ...                  ...   \n",
       "2299     1470   12.0      0.0  Other      surf                    0   \n",
       "2300     1482   10.0      0.0  Other  ultimate                    0   \n",
       "2301     1484   11.0      0.0  Other      surf                    0   \n",
       "2302     1491    4.0      0.0  Other      surf                    0   \n",
       "2303     1044    8.0      0.0  Other      surf                    0   \n",
       "\n",
       "      income_gb  messages  income_messages  calls  duration  income_minutes  \\\n",
       "0           0.0      11.0             0.00   16.0     124.0            0.00   \n",
       "1           0.0      30.0             0.00   27.0     182.0            0.00   \n",
       "2           0.0      44.0             0.00   49.0     315.0            0.00   \n",
       "3          70.0      53.0             0.09   65.0     393.0            0.00   \n",
       "4          40.0      36.0             0.00   64.0     426.0            0.00   \n",
       "...         ...       ...              ...    ...       ...             ...   \n",
       "2299        0.0     153.0             3.09   78.0     592.0            2.76   \n",
       "2300        0.0       2.0             0.00    0.0       0.0            0.00   \n",
       "2301        0.0       1.0             0.00    2.0      38.0            0.00   \n",
       "2302        0.0       6.0             0.00    8.0      44.0            0.00   \n",
       "2303        0.0       0.0             0.00    1.0      13.0            0.00   \n",
       "\n",
       "      total_income_extra  total_income  \n",
       "0                   0.00         70.00  \n",
       "1                   0.00         20.00  \n",
       "2                   0.00         20.00  \n",
       "3                  70.09         90.09  \n",
       "4                  40.00         60.00  \n",
       "...                  ...           ...  \n",
       "2299                5.85         25.85  \n",
       "2300                0.00         70.00  \n",
       "2301                0.00         20.00  \n",
       "2302                0.00         20.00  \n",
       "2303                0.00         20.00  \n",
       "\n",
       "[2304 rows x 14 columns]"
      ]
     },
     "execution_count": 30,
     "metadata": {},
     "output_type": "execute_result"
    }
   ],
   "source": [
    "# Hacemos una lista con las regiones que no sean Nueva York-Nueva Jersey\n",
    "data_final['city'] = data_final['city'].where(data_final['city'] == \"New York-Newark-Jersey City, NY-NJ-PA MSA\", 'Other')\n",
    "data_final"
   ]
  },
  {
   "cell_type": "code",
   "execution_count": 31,
   "id": "3d3d4f35",
   "metadata": {},
   "outputs": [
    {
     "name": "stdout",
     "output_type": "stream",
     "text": [
      "2542.8232474520837\n",
      "1988.054989745935\n"
     ]
    }
   ],
   "source": [
    "income_Other = data_final.query('city == \"Other\"')['total_income_extra']\n",
    "print(np.var(income_Other))\n",
    "income_ny_nj = data_final.query('city != \"Other\"')['total_income_extra']\n",
    "print(np.var(income_ny_nj))"
   ]
  },
  {
   "cell_type": "markdown",
   "id": "5d0ae5e6",
   "metadata": {},
   "source": [
    "Como las varianzas no son iguales, hay que establecer el parámetro equal_var en False"
   ]
  },
  {
   "cell_type": "markdown",
   "id": "fa8fcf75",
   "metadata": {},
   "source": [
    "- Hipótesis nula = El promedio de los usuarios en el área de estados Nueva York-Nueva Jersey es igual al de los usuarios de otras regiones.\n",
    "- Hipótesis alternativa = El promedio de los usuarios en el área de estados Nueva York-Nueva Jersey no es igual al de los usuarios de otras regiones."
   ]
  },
  {
   "cell_type": "code",
   "execution_count": 32,
   "id": "5e5c9c2d",
   "metadata": {},
   "outputs": [
    {
     "name": "stdout",
     "output_type": "stream",
     "text": [
      "p-value: 0.19549648753588877\n",
      "No rechazamos la hipótesis nula\n"
     ]
    }
   ],
   "source": [
    "# establece un nivel crítico de significación estadística\n",
    "alpha = 0.05\n",
    "# realiza la prueba y calcula el valor p entre los dos datasets\n",
    "results = st.ttest_ind(income_Other, income_ny_nj, equal_var = False) \n",
    "# imprime el valor p obtenido\n",
    "print('p-value:', results.pvalue)\n",
    "# tu código: compara el valor p con el nivel de la significación estadística\n",
    "if results.pvalue < alpha:\n",
    "    print(\"Rechazamos la hipótesis nula\")\n",
    "else:\n",
    "    print(\"No rechazamos la hipótesis nula\")"
   ]
  },
  {
   "cell_type": "markdown",
   "id": "64c6345e",
   "metadata": {},
   "source": [
    "- Los ingresos en el área de los estados Nueva York-Nueva Jersey es igual al de los usuarios de otras regiones."
   ]
  }
 ],
 "metadata": {
  "ExecuteTimeLog": [
   {
    "duration": 1019,
    "start_time": "2022-08-27T02:26:02.386Z"
   },
   {
    "duration": 590,
    "start_time": "2022-08-27T02:26:03.406Z"
   },
   {
    "duration": 36,
    "start_time": "2022-08-27T02:26:03.998Z"
   },
   {
    "duration": 22,
    "start_time": "2022-08-27T02:26:04.036Z"
   },
   {
    "duration": 33,
    "start_time": "2022-08-27T02:26:04.059Z"
   },
   {
    "duration": 19,
    "start_time": "2022-08-27T02:26:04.093Z"
   },
   {
    "duration": 27,
    "start_time": "2022-08-27T02:26:04.114Z"
   },
   {
    "duration": 54,
    "start_time": "2022-08-27T02:26:04.143Z"
   },
   {
    "duration": 729,
    "start_time": "2022-08-27T02:26:04.198Z"
   },
   {
    "duration": 20,
    "start_time": "2022-08-27T02:26:04.929Z"
   },
   {
    "duration": 37,
    "start_time": "2022-08-27T02:26:04.951Z"
   },
   {
    "duration": 17,
    "start_time": "2022-08-27T02:26:04.989Z"
   },
   {
    "duration": 22,
    "start_time": "2022-08-27T02:26:05.008Z"
   },
   {
    "duration": 15,
    "start_time": "2022-08-27T02:26:05.031Z"
   },
   {
    "duration": 54,
    "start_time": "2022-08-27T02:26:05.048Z"
   },
   {
    "duration": 20,
    "start_time": "2022-08-27T02:26:05.104Z"
   },
   {
    "duration": 15,
    "start_time": "2022-08-27T02:26:05.126Z"
   },
   {
    "duration": 125,
    "start_time": "2022-08-27T02:26:05.143Z"
   },
   {
    "duration": 62,
    "start_time": "2022-08-27T02:26:05.270Z"
   },
   {
    "duration": 89,
    "start_time": "2022-08-27T02:26:05.334Z"
   },
   {
    "duration": 278,
    "start_time": "2022-08-27T02:26:05.425Z"
   },
   {
    "duration": 16,
    "start_time": "2022-08-27T02:26:05.704Z"
   },
   {
    "duration": 331,
    "start_time": "2022-08-27T02:26:05.722Z"
   },
   {
    "duration": 14,
    "start_time": "2022-08-27T02:26:06.054Z"
   },
   {
    "duration": 329,
    "start_time": "2022-08-27T02:26:06.069Z"
   },
   {
    "duration": 14,
    "start_time": "2022-08-27T02:26:06.399Z"
   },
   {
    "duration": 358,
    "start_time": "2022-08-27T02:26:06.415Z"
   },
   {
    "duration": 46,
    "start_time": "2022-08-27T02:26:06.775Z"
   },
   {
    "duration": 12,
    "start_time": "2022-08-27T02:26:06.823Z"
   },
   {
    "duration": 22,
    "start_time": "2022-08-27T02:26:06.836Z"
   },
   {
    "duration": 5,
    "start_time": "2022-08-27T02:26:06.860Z"
   },
   {
    "duration": 32,
    "start_time": "2022-08-27T02:26:06.866Z"
   },
   {
    "duration": 34,
    "start_time": "2022-08-27T02:26:06.900Z"
   },
   {
    "duration": 4,
    "start_time": "2022-08-27T02:26:06.935Z"
   },
   {
    "duration": 4,
    "start_time": "2022-08-27T02:36:00.639Z"
   },
   {
    "duration": 347,
    "start_time": "2022-08-27T02:36:00.645Z"
   },
   {
    "duration": 25,
    "start_time": "2022-08-27T02:36:00.994Z"
   },
   {
    "duration": 23,
    "start_time": "2022-08-27T02:36:01.020Z"
   },
   {
    "duration": 38,
    "start_time": "2022-08-27T02:36:01.045Z"
   },
   {
    "duration": 28,
    "start_time": "2022-08-27T02:36:01.085Z"
   },
   {
    "duration": 31,
    "start_time": "2022-08-27T02:36:01.115Z"
   },
   {
    "duration": 85,
    "start_time": "2022-08-27T02:36:01.148Z"
   },
   {
    "duration": 9,
    "start_time": "2022-08-27T02:36:01.235Z"
   },
   {
    "duration": 634,
    "start_time": "2022-08-27T02:36:01.246Z"
   },
   {
    "duration": 647,
    "start_time": "2022-08-27T02:36:28.797Z"
   },
   {
    "duration": 3,
    "start_time": "2022-08-27T02:37:24.555Z"
   },
   {
    "duration": 325,
    "start_time": "2022-08-27T02:37:24.560Z"
   },
   {
    "duration": 23,
    "start_time": "2022-08-27T02:37:24.887Z"
   },
   {
    "duration": 20,
    "start_time": "2022-08-27T02:37:24.912Z"
   },
   {
    "duration": 18,
    "start_time": "2022-08-27T02:37:24.933Z"
   },
   {
    "duration": 41,
    "start_time": "2022-08-27T02:37:24.953Z"
   },
   {
    "duration": 21,
    "start_time": "2022-08-27T02:37:24.995Z"
   },
   {
    "duration": 39,
    "start_time": "2022-08-27T02:37:25.018Z"
   },
   {
    "duration": 68,
    "start_time": "2022-08-27T02:37:25.059Z"
   },
   {
    "duration": 631,
    "start_time": "2022-08-27T02:37:40.561Z"
   },
   {
    "duration": 4,
    "start_time": "2022-08-27T02:37:53.019Z"
   },
   {
    "duration": 335,
    "start_time": "2022-08-27T02:37:53.025Z"
   },
   {
    "duration": 23,
    "start_time": "2022-08-27T02:37:53.361Z"
   },
   {
    "duration": 23,
    "start_time": "2022-08-27T02:37:53.386Z"
   },
   {
    "duration": 18,
    "start_time": "2022-08-27T02:37:53.410Z"
   },
   {
    "duration": 16,
    "start_time": "2022-08-27T02:37:53.429Z"
   },
   {
    "duration": 49,
    "start_time": "2022-08-27T02:37:53.447Z"
   },
   {
    "duration": 34,
    "start_time": "2022-08-27T02:37:53.498Z"
   },
   {
    "duration": 669,
    "start_time": "2022-08-27T02:37:53.534Z"
   },
   {
    "duration": 3,
    "start_time": "2022-08-27T03:23:58.681Z"
   },
   {
    "duration": 350,
    "start_time": "2022-08-27T03:23:58.687Z"
   },
   {
    "duration": 23,
    "start_time": "2022-08-27T03:23:59.039Z"
   },
   {
    "duration": 23,
    "start_time": "2022-08-27T03:23:59.064Z"
   },
   {
    "duration": 31,
    "start_time": "2022-08-27T03:23:59.089Z"
   },
   {
    "duration": 20,
    "start_time": "2022-08-27T03:23:59.122Z"
   },
   {
    "duration": 18,
    "start_time": "2022-08-27T03:23:59.143Z"
   },
   {
    "duration": 42,
    "start_time": "2022-08-27T03:23:59.185Z"
   },
   {
    "duration": 646,
    "start_time": "2022-08-27T03:23:59.229Z"
   },
   {
    "duration": 31,
    "start_time": "2022-08-27T03:23:59.876Z"
   },
   {
    "duration": 22,
    "start_time": "2022-08-27T03:23:59.910Z"
   },
   {
    "duration": 17,
    "start_time": "2022-08-27T03:23:59.933Z"
   },
   {
    "duration": 49,
    "start_time": "2022-08-27T03:23:59.952Z"
   },
   {
    "duration": 14,
    "start_time": "2022-08-27T03:24:00.002Z"
   },
   {
    "duration": 19,
    "start_time": "2022-08-27T03:24:00.018Z"
   },
   {
    "duration": 19,
    "start_time": "2022-08-27T03:24:00.038Z"
   },
   {
    "duration": 15,
    "start_time": "2022-08-27T03:24:00.086Z"
   },
   {
    "duration": 112,
    "start_time": "2022-08-27T03:24:00.103Z"
   },
   {
    "duration": 55,
    "start_time": "2022-08-27T03:24:00.216Z"
   },
   {
    "duration": 96,
    "start_time": "2022-08-27T03:24:00.273Z"
   },
   {
    "duration": 319,
    "start_time": "2022-08-27T03:24:00.371Z"
   },
   {
    "duration": 18,
    "start_time": "2022-08-27T03:24:00.699Z"
   },
   {
    "duration": 334,
    "start_time": "2022-08-27T03:24:00.719Z"
   },
   {
    "duration": 15,
    "start_time": "2022-08-27T03:24:01.055Z"
   },
   {
    "duration": 476,
    "start_time": "2022-08-27T03:24:01.071Z"
   },
   {
    "duration": 15,
    "start_time": "2022-08-27T03:24:01.549Z"
   },
   {
    "duration": 414,
    "start_time": "2022-08-27T03:24:01.566Z"
   },
   {
    "duration": 57,
    "start_time": "2022-08-27T03:24:01.982Z"
   },
   {
    "duration": 16,
    "start_time": "2022-08-27T03:24:02.043Z"
   },
   {
    "duration": 1212,
    "start_time": "2022-09-02T00:36:11.399Z"
   },
   {
    "duration": 849,
    "start_time": "2022-09-02T00:36:12.613Z"
   },
   {
    "duration": 27,
    "start_time": "2022-09-02T00:36:13.464Z"
   },
   {
    "duration": 21,
    "start_time": "2022-09-02T00:36:13.492Z"
   },
   {
    "duration": 17,
    "start_time": "2022-09-02T00:36:13.515Z"
   },
   {
    "duration": 15,
    "start_time": "2022-09-02T00:36:13.533Z"
   },
   {
    "duration": 15,
    "start_time": "2022-09-02T00:36:13.550Z"
   },
   {
    "duration": 8,
    "start_time": "2022-09-02T00:36:13.566Z"
   },
   {
    "duration": 63,
    "start_time": "2022-09-02T00:36:13.576Z"
   },
   {
    "duration": 20,
    "start_time": "2022-09-02T00:36:13.640Z"
   },
   {
    "duration": 26,
    "start_time": "2022-09-02T00:36:13.661Z"
   },
   {
    "duration": 20,
    "start_time": "2022-09-02T00:36:13.689Z"
   },
   {
    "duration": 50,
    "start_time": "2022-09-02T00:36:13.710Z"
   },
   {
    "duration": 13,
    "start_time": "2022-09-02T00:36:13.763Z"
   },
   {
    "duration": 19,
    "start_time": "2022-09-02T00:36:13.778Z"
   },
   {
    "duration": 48,
    "start_time": "2022-09-02T00:36:13.798Z"
   },
   {
    "duration": 13,
    "start_time": "2022-09-02T00:36:13.848Z"
   },
   {
    "duration": 118,
    "start_time": "2022-09-02T00:36:13.863Z"
   },
   {
    "duration": 64,
    "start_time": "2022-09-02T00:36:13.982Z"
   },
   {
    "duration": 67,
    "start_time": "2022-09-02T00:36:14.047Z"
   },
   {
    "duration": 3471,
    "start_time": "2022-09-02T00:36:14.116Z"
   },
   {
    "duration": 275,
    "start_time": "2022-09-02T00:36:17.588Z"
   },
   {
    "duration": 377,
    "start_time": "2022-09-02T00:36:17.864Z"
   },
   {
    "duration": 353,
    "start_time": "2022-09-02T00:36:18.243Z"
   },
   {
    "duration": 374,
    "start_time": "2022-09-02T00:36:18.598Z"
   },
   {
    "duration": 32,
    "start_time": "2022-09-02T00:36:18.974Z"
   },
   {
    "duration": 46,
    "start_time": "2022-09-02T00:36:19.008Z"
   },
   {
    "duration": 5,
    "start_time": "2022-09-02T00:36:19.056Z"
   },
   {
    "duration": 111,
    "start_time": "2022-09-02T00:36:19.062Z"
   },
   {
    "duration": 80,
    "start_time": "2022-09-02T00:36:19.175Z"
   },
   {
    "duration": 5,
    "start_time": "2022-09-02T00:36:19.256Z"
   },
   {
    "duration": 933,
    "start_time": "2022-09-02T00:57:36.772Z"
   },
   {
    "duration": 307,
    "start_time": "2022-09-02T00:57:37.708Z"
   },
   {
    "duration": 27,
    "start_time": "2022-09-02T00:57:38.017Z"
   },
   {
    "duration": 20,
    "start_time": "2022-09-02T00:57:38.045Z"
   },
   {
    "duration": 17,
    "start_time": "2022-09-02T00:57:38.067Z"
   },
   {
    "duration": 14,
    "start_time": "2022-09-02T00:57:38.085Z"
   },
   {
    "duration": 42,
    "start_time": "2022-09-02T00:57:38.101Z"
   },
   {
    "duration": 9,
    "start_time": "2022-09-02T00:57:38.145Z"
   },
   {
    "duration": 42,
    "start_time": "2022-09-02T00:57:38.155Z"
   },
   {
    "duration": 19,
    "start_time": "2022-09-02T00:57:38.198Z"
   },
   {
    "duration": 41,
    "start_time": "2022-09-02T00:57:38.219Z"
   },
   {
    "duration": 17,
    "start_time": "2022-09-02T00:57:38.261Z"
   },
   {
    "duration": 30,
    "start_time": "2022-09-02T00:57:38.280Z"
   },
   {
    "duration": 14,
    "start_time": "2022-09-02T00:57:38.312Z"
   },
   {
    "duration": 28,
    "start_time": "2022-09-02T00:57:38.327Z"
   },
   {
    "duration": 19,
    "start_time": "2022-09-02T00:57:38.356Z"
   },
   {
    "duration": 15,
    "start_time": "2022-09-02T00:57:38.377Z"
   },
   {
    "duration": 124,
    "start_time": "2022-09-02T00:57:38.393Z"
   },
   {
    "duration": 65,
    "start_time": "2022-09-02T00:57:38.519Z"
   },
   {
    "duration": 73,
    "start_time": "2022-09-02T00:57:38.585Z"
   },
   {
    "duration": 42,
    "start_time": "2022-09-02T00:57:38.659Z"
   },
   {
    "duration": 982,
    "start_time": "2022-09-02T00:57:55.634Z"
   },
   {
    "duration": 308,
    "start_time": "2022-09-02T00:57:56.618Z"
   },
   {
    "duration": 28,
    "start_time": "2022-09-02T00:57:56.927Z"
   },
   {
    "duration": 19,
    "start_time": "2022-09-02T00:57:56.956Z"
   },
   {
    "duration": 17,
    "start_time": "2022-09-02T00:57:56.977Z"
   },
   {
    "duration": 14,
    "start_time": "2022-09-02T00:57:56.996Z"
   },
   {
    "duration": 41,
    "start_time": "2022-09-02T00:57:57.012Z"
   },
   {
    "duration": 8,
    "start_time": "2022-09-02T00:57:57.054Z"
   },
   {
    "duration": 43,
    "start_time": "2022-09-02T00:57:57.063Z"
   },
   {
    "duration": 43,
    "start_time": "2022-09-02T00:57:57.107Z"
   },
   {
    "duration": 23,
    "start_time": "2022-09-02T00:57:57.151Z"
   },
   {
    "duration": 16,
    "start_time": "2022-09-02T00:57:57.175Z"
   },
   {
    "duration": 45,
    "start_time": "2022-09-02T00:57:57.193Z"
   },
   {
    "duration": 13,
    "start_time": "2022-09-02T00:57:57.241Z"
   },
   {
    "duration": 19,
    "start_time": "2022-09-02T00:57:57.255Z"
   },
   {
    "duration": 19,
    "start_time": "2022-09-02T00:57:57.276Z"
   },
   {
    "duration": 10,
    "start_time": "2022-09-02T00:57:57.296Z"
   },
   {
    "duration": 132,
    "start_time": "2022-09-02T00:57:57.307Z"
   },
   {
    "duration": 58,
    "start_time": "2022-09-02T00:57:57.441Z"
   },
   {
    "duration": 81,
    "start_time": "2022-09-02T00:57:57.500Z"
   },
   {
    "duration": 60,
    "start_time": "2022-09-02T00:57:57.583Z"
   },
   {
    "duration": 3526,
    "start_time": "2022-09-02T00:57:57.645Z"
   },
   {
    "duration": 268,
    "start_time": "2022-09-02T00:58:01.173Z"
   },
   {
    "duration": 398,
    "start_time": "2022-09-02T00:58:01.443Z"
   },
   {
    "duration": 364,
    "start_time": "2022-09-02T00:58:01.842Z"
   },
   {
    "duration": 359,
    "start_time": "2022-09-02T00:58:02.208Z"
   },
   {
    "duration": 30,
    "start_time": "2022-09-02T00:58:02.569Z"
   },
   {
    "duration": 48,
    "start_time": "2022-09-02T00:58:02.600Z"
   },
   {
    "duration": 7,
    "start_time": "2022-09-02T00:58:02.650Z"
   },
   {
    "duration": 110,
    "start_time": "2022-09-02T00:58:02.659Z"
   },
   {
    "duration": 83,
    "start_time": "2022-09-02T00:58:02.771Z"
   },
   {
    "duration": 5,
    "start_time": "2022-09-02T00:58:02.856Z"
   },
   {
    "duration": 1060,
    "start_time": "2022-09-02T00:59:56.103Z"
   },
   {
    "duration": 358,
    "start_time": "2022-09-02T00:59:57.165Z"
   },
   {
    "duration": 28,
    "start_time": "2022-09-02T00:59:57.525Z"
   },
   {
    "duration": 22,
    "start_time": "2022-09-02T00:59:57.554Z"
   },
   {
    "duration": 17,
    "start_time": "2022-09-02T00:59:57.578Z"
   },
   {
    "duration": 14,
    "start_time": "2022-09-02T00:59:57.597Z"
   },
   {
    "duration": 42,
    "start_time": "2022-09-02T00:59:57.612Z"
   },
   {
    "duration": 11,
    "start_time": "2022-09-02T00:59:57.656Z"
   },
   {
    "duration": 43,
    "start_time": "2022-09-02T00:59:57.669Z"
   },
   {
    "duration": 45,
    "start_time": "2022-09-02T00:59:57.714Z"
   },
   {
    "duration": 24,
    "start_time": "2022-09-02T00:59:57.760Z"
   },
   {
    "duration": 19,
    "start_time": "2022-09-02T00:59:57.786Z"
   },
   {
    "duration": 52,
    "start_time": "2022-09-02T00:59:57.806Z"
   },
   {
    "duration": 16,
    "start_time": "2022-09-02T00:59:57.860Z"
   },
   {
    "duration": 20,
    "start_time": "2022-09-02T00:59:57.878Z"
   },
   {
    "duration": 53,
    "start_time": "2022-09-02T00:59:57.900Z"
   },
   {
    "duration": 13,
    "start_time": "2022-09-02T00:59:57.954Z"
   },
   {
    "duration": 122,
    "start_time": "2022-09-02T00:59:57.968Z"
   },
   {
    "duration": 70,
    "start_time": "2022-09-02T00:59:58.092Z"
   },
   {
    "duration": 74,
    "start_time": "2022-09-02T00:59:58.164Z"
   },
   {
    "duration": 23,
    "start_time": "2022-09-02T00:59:58.240Z"
   },
   {
    "duration": 24,
    "start_time": "2022-09-02T01:00:38.092Z"
   },
   {
    "duration": 1215,
    "start_time": "2022-09-06T04:44:29.040Z"
   },
   {
    "duration": 914,
    "start_time": "2022-09-06T04:44:30.257Z"
   },
   {
    "duration": 27,
    "start_time": "2022-09-06T04:44:31.173Z"
   },
   {
    "duration": 26,
    "start_time": "2022-09-06T04:44:31.202Z"
   },
   {
    "duration": 27,
    "start_time": "2022-09-06T04:44:31.230Z"
   },
   {
    "duration": 17,
    "start_time": "2022-09-06T04:44:31.259Z"
   },
   {
    "duration": 22,
    "start_time": "2022-09-06T04:44:31.278Z"
   },
   {
    "duration": 18,
    "start_time": "2022-09-06T04:44:31.302Z"
   },
   {
    "duration": 64,
    "start_time": "2022-09-06T04:44:31.322Z"
   },
   {
    "duration": 20,
    "start_time": "2022-09-06T04:44:31.388Z"
   },
   {
    "duration": 25,
    "start_time": "2022-09-06T04:44:31.409Z"
   },
   {
    "duration": 39,
    "start_time": "2022-09-06T04:44:31.436Z"
   },
   {
    "duration": 31,
    "start_time": "2022-09-06T04:44:31.477Z"
   },
   {
    "duration": 16,
    "start_time": "2022-09-06T04:44:31.510Z"
   },
   {
    "duration": 42,
    "start_time": "2022-09-06T04:44:31.528Z"
   },
   {
    "duration": 20,
    "start_time": "2022-09-06T04:44:31.571Z"
   },
   {
    "duration": 11,
    "start_time": "2022-09-06T04:44:31.593Z"
   },
   {
    "duration": 124,
    "start_time": "2022-09-06T04:44:31.605Z"
   },
   {
    "duration": 71,
    "start_time": "2022-09-06T04:44:31.730Z"
   },
   {
    "duration": 81,
    "start_time": "2022-09-06T04:44:31.803Z"
   },
   {
    "duration": 4,
    "start_time": "2022-09-06T04:44:31.886Z"
   },
   {
    "duration": 96,
    "start_time": "2022-09-06T04:44:31.892Z"
   },
   {
    "duration": 283,
    "start_time": "2022-09-06T04:44:31.990Z"
   },
   {
    "duration": 355,
    "start_time": "2022-09-06T04:44:32.275Z"
   },
   {
    "duration": 343,
    "start_time": "2022-09-06T04:44:32.632Z"
   },
   {
    "duration": 331,
    "start_time": "2022-09-06T04:44:32.977Z"
   },
   {
    "duration": 19,
    "start_time": "2022-09-06T04:44:33.310Z"
   },
   {
    "duration": 27,
    "start_time": "2022-09-06T04:44:33.333Z"
   },
   {
    "duration": 6,
    "start_time": "2022-09-06T04:44:33.361Z"
   },
   {
    "duration": 25,
    "start_time": "2022-09-06T04:44:33.369Z"
   },
   {
    "duration": 15,
    "start_time": "2022-09-06T04:44:33.396Z"
   },
   {
    "duration": 5,
    "start_time": "2022-09-06T04:44:33.412Z"
   },
   {
    "duration": 1096,
    "start_time": "2022-09-07T02:15:50.849Z"
   },
   {
    "duration": 1057,
    "start_time": "2022-09-07T02:15:51.947Z"
   },
   {
    "duration": 27,
    "start_time": "2022-09-07T02:15:53.006Z"
   },
   {
    "duration": 26,
    "start_time": "2022-09-07T02:15:53.035Z"
   },
   {
    "duration": 24,
    "start_time": "2022-09-07T02:15:53.069Z"
   },
   {
    "duration": 20,
    "start_time": "2022-09-07T02:15:53.095Z"
   },
   {
    "duration": 20,
    "start_time": "2022-09-07T02:15:53.117Z"
   },
   {
    "duration": 20,
    "start_time": "2022-09-07T02:15:53.139Z"
   },
   {
    "duration": 54,
    "start_time": "2022-09-07T02:15:53.161Z"
   },
   {
    "duration": 25,
    "start_time": "2022-09-07T02:15:53.217Z"
   },
   {
    "duration": 34,
    "start_time": "2022-09-07T02:15:53.263Z"
   },
   {
    "duration": 18,
    "start_time": "2022-09-07T02:15:53.298Z"
   },
   {
    "duration": 23,
    "start_time": "2022-09-07T02:15:53.318Z"
   },
   {
    "duration": 27,
    "start_time": "2022-09-07T02:15:53.359Z"
   },
   {
    "duration": 23,
    "start_time": "2022-09-07T02:15:53.388Z"
   },
   {
    "duration": 23,
    "start_time": "2022-09-07T02:15:53.413Z"
   },
   {
    "duration": 32,
    "start_time": "2022-09-07T02:15:53.438Z"
   },
   {
    "duration": 136,
    "start_time": "2022-09-07T02:15:53.473Z"
   },
   {
    "duration": 82,
    "start_time": "2022-09-07T02:15:53.611Z"
   },
   {
    "duration": 92,
    "start_time": "2022-09-07T02:15:53.694Z"
   },
   {
    "duration": 5,
    "start_time": "2022-09-07T02:15:53.788Z"
   },
   {
    "duration": 87,
    "start_time": "2022-09-07T02:15:53.794Z"
   },
   {
    "duration": 308,
    "start_time": "2022-09-07T02:15:53.885Z"
   },
   {
    "duration": 354,
    "start_time": "2022-09-07T02:15:54.194Z"
   },
   {
    "duration": 342,
    "start_time": "2022-09-07T02:15:54.549Z"
   },
   {
    "duration": 322,
    "start_time": "2022-09-07T02:15:54.892Z"
   },
   {
    "duration": 22,
    "start_time": "2022-09-07T02:15:55.216Z"
   },
   {
    "duration": 53,
    "start_time": "2022-09-07T02:15:55.240Z"
   },
   {
    "duration": 9,
    "start_time": "2022-09-07T02:15:55.295Z"
   },
   {
    "duration": 34,
    "start_time": "2022-09-07T02:15:55.305Z"
   },
   {
    "duration": 14,
    "start_time": "2022-09-07T02:15:55.341Z"
   },
   {
    "duration": 32,
    "start_time": "2022-09-07T02:15:55.357Z"
   }
  ],
  "kernelspec": {
   "display_name": "Python 3",
   "language": "python",
   "name": "python3"
  },
  "language_info": {
   "codemirror_mode": {
    "name": "ipython",
    "version": 3
   },
   "file_extension": ".py",
   "mimetype": "text/x-python",
   "name": "python",
   "nbconvert_exporter": "python",
   "pygments_lexer": "ipython3",
   "version": "3.9.12"
  },
  "toc": {
   "base_numbering": 1,
   "nav_menu": {},
   "number_sections": true,
   "sideBar": true,
   "skip_h1_title": true,
   "title_cell": "Table of Contents",
   "title_sidebar": "Contents",
   "toc_cell": false,
   "toc_position": {
    "height": "381px",
    "left": "30px",
    "top": "111.125px",
    "width": "206px"
   },
   "toc_section_display": true,
   "toc_window_display": false
  },
  "varInspector": {
   "cols": {
    "lenName": 16,
    "lenType": 16,
    "lenVar": 40
   },
   "kernels_config": {
    "python": {
     "delete_cmd_postfix": "",
     "delete_cmd_prefix": "del ",
     "library": "var_list.py",
     "varRefreshCmd": "print(var_dic_list())"
    },
    "r": {
     "delete_cmd_postfix": ") ",
     "delete_cmd_prefix": "rm(",
     "library": "var_list.r",
     "varRefreshCmd": "cat(var_dic_list()) "
    }
   },
   "types_to_exclude": [
    "module",
    "function",
    "builtin_function_or_method",
    "instance",
    "_Feature"
   ],
   "window_display": false
  }
 },
 "nbformat": 4,
 "nbformat_minor": 5
}
